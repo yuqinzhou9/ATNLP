{
 "cells": [
  {
   "cell_type": "code",
   "execution_count": 109,
   "id": "9102a70e",
   "metadata": {},
   "outputs": [],
   "source": [
    "import os\n",
    "import numpy as np\n",
    "import torch\n",
    "import torch.nn as nn\n",
    "import random\n",
    "import torch.nn.functional as F\n",
    "from torch import optim\n",
    "from sklearn.preprocessing import LabelEncoder\n",
    "import matplotlib.pyplot as plt\n",
    "plt.switch_backend('agg')\n",
    "import matplotlib.ticker as ticker\n",
    "from tqdm import tqdm\n",
    "import numpy as np\n",
    "%matplotlib inline \n",
    "\n",
    "device = torch.device(\"cuda\" if torch.cuda.is_available() else \"cpu\")"
   ]
  },
  {
   "cell_type": "code",
   "execution_count": 85,
   "id": "bb45f284",
   "metadata": {},
   "outputs": [
    {
     "data": {
      "text/plain": [
       "('SCAN-master\\\\simple_split/size_variations/tasks_train_simple_p16.txt',\n",
       " 'SCAN-master\\\\simple_split/size_variations/tasks_test_simple_p16.txt')"
      ]
     },
     "execution_count": 85,
     "metadata": {},
     "output_type": "execute_result"
    }
   ],
   "source": [
    "dataset_path = 'SCAN-master'\n",
    "file_name = 'simple_split/size_variations/tasks_train_simple_p16.txt'\n",
    "test_file_name = 'simple_split/size_variations/tasks_test_simple_p16.txt'\n",
    "file_path = os.path.join(dataset_path, file_name)\n",
    "test_file_path = os.path.join(dataset_path, test_file_name)\n",
    "file_path, test_file_path"
   ]
  },
  {
   "cell_type": "code",
   "execution_count": 36,
   "id": "980c17a5",
   "metadata": {},
   "outputs": [],
   "source": [
    "SOS_token = 0\n",
    "EOS_token = 1\n",
    "\n",
    "\n",
    "class Lang:\n",
    "    def __init__(self, name):\n",
    "        self.name = name\n",
    "        self.word2index = {}\n",
    "        self.word2count = {}\n",
    "        self.index2word = {0: \"SOS\", 1: \"EOS\"}\n",
    "        self.n_words = 2  # Count SOS and EOS\n",
    "\n",
    "    def addSentence(self, sentence):\n",
    "        for word in sentence:\n",
    "            self.addWord(word)\n",
    "\n",
    "    def addWord(self, word):\n",
    "        if word not in self.word2index:\n",
    "            self.word2index[word] = self.n_words\n",
    "            self.word2count[word] = 1\n",
    "            self.index2word[self.n_words] = word\n",
    "            self.n_words += 1\n",
    "        else:\n",
    "            self.word2count[word] += 1"
   ]
  },
  {
   "cell_type": "code",
   "execution_count": 101,
   "id": "3594978e",
   "metadata": {},
   "outputs": [],
   "source": [
    "command_le = Lang('command')\n",
    "action_le = Lang('action')\n",
    "\n",
    "def dataloader(path):\n",
    "    with open(path, 'r') as f:\n",
    "        dataset = f.readlines()\n",
    "\n",
    "    def preprocess_data(line):\n",
    "        line = line.strip().split()\n",
    "        split_index = line.index('OUT:')\n",
    "        inp = line[1: split_index]\n",
    "        outp = line[split_index+1:]\n",
    "        command_le.addSentence(inp)\n",
    "        action_le.addSentence(outp)\n",
    "        return [inp, outp]\n",
    "    \n",
    "    pairs = list(map(preprocess_data, dataset))\n",
    "    input_commands, output_actions = np.transpose(pairs).tolist()\n",
    "    return input_commands, output_actions, pairs\n",
    "\n",
    "commands, actions, pairs = dataloader(file_path)\n",
    "test_commands, test_acitons, test_pairs = dataloader(test_file_path)"
   ]
  },
  {
   "cell_type": "code",
   "execution_count": 38,
   "id": "4785c01a",
   "metadata": {},
   "outputs": [],
   "source": [
    "def indexesFromSentence(le, sentence):\n",
    "    return [le.word2index[word] for word in sentence]\n",
    "\n",
    "def tensorFromSentence(le, sentence):\n",
    "    indexes = indexesFromSentence(le, sentence)\n",
    "    indexes.append(EOS_token)\n",
    "    return torch.tensor(indexes, dtype=torch.long, device=device).view(-1,1)\n",
    "\n",
    "def tensorsFromPair(pair):\n",
    "    input_tensor = tensorFromSentence(command_le, pair[0])\n",
    "    target_tensor = tensorFromSentence(action_le, pair[1])\n",
    "    return (input_tensor, target_tensor)"
   ]
  },
  {
   "cell_type": "code",
   "execution_count": 92,
   "id": "9d23983a",
   "metadata": {},
   "outputs": [
    {
     "data": {
      "text/plain": [
       "49"
      ]
     },
     "execution_count": 92,
     "metadata": {},
     "output_type": "execute_result"
    }
   ],
   "source": [
    "MAX_LENGTH = max([len(action) for action in actions]) + 1\n",
    "MAX_LENGTH"
   ]
  },
  {
   "cell_type": "code",
   "execution_count": null,
   "id": "19e3b26a",
   "metadata": {},
   "outputs": [],
   "source": []
  },
  {
   "cell_type": "code",
   "execution_count": 40,
   "id": "01f581c7",
   "metadata": {},
   "outputs": [],
   "source": [
    "class EncoderRNN(nn.Module):\n",
    "    def __init__(self, input_size, hidden_size, num_layers, dropout):\n",
    "        super(EncoderRNN, self).__init__()\n",
    "        self.hidden_size = hidden_size\n",
    "        self.num_layers = num_layers\n",
    "        \n",
    "        self.embedding = nn.Embedding(input_size, hidden_size)\n",
    "        self.dropout = nn.Dropout(p=dropout)\n",
    "        self.lstm = nn.LSTM(hidden_size, hidden_size, num_layers=num_layers, dropout=dropout)\n",
    "        \n",
    "    def forward(self, input, hidden):\n",
    "        embedded = self.embedding(input).view(1, 1, -1)\n",
    "        output = embedded\n",
    "        output, hidden = self.lstm(output, hidden)\n",
    "        return output, hidden\n",
    "    \n",
    "    def initHidden(self):\n",
    "        return torch.zeros(self.num_layers, 1, self.hidden_size, device=device)\n",
    "    \n",
    "    def initCell(self):\n",
    "        return torch.zeros(self.num_layers, 1, self.hidden_size, device=device)"
   ]
  },
  {
   "cell_type": "code",
   "execution_count": 41,
   "id": "51dc0fbb",
   "metadata": {},
   "outputs": [],
   "source": [
    "class DecoderRNN(nn.Module):\n",
    "    def __init__(self, hidden_size, output_size, num_layers, dropout):\n",
    "        super(DecoderRNN, self).__init__()\n",
    "        self.hidden_size = hidden_size\n",
    "        self.num_layers = num_layers\n",
    "        \n",
    "        self.embedding = nn.Embedding(output_size, hidden_size)\n",
    "        self.dropout = nn.Dropout(p=dropout)\n",
    "        self.lstm = nn.LSTM(hidden_size, hidden_size, num_layers=num_layers, dropout=dropout)\n",
    "        self.out = nn.Linear(hidden_size, output_size)\n",
    "        self.softmax = nn.LogSoftmax(dim=1) # Could be LogSoftmax\n",
    "        \n",
    "    def forward(self, input, hidden):\n",
    "        output = self.embedding(input).view(1, 1, -1)\n",
    "        output = F.relu(output)\n",
    "        output, hidden = self.lstm(output, hidden)\n",
    "        output = self.softmax(self.out(output[0]))\n",
    "        return output, hidden\n",
    "    \n",
    "    def initHidden(self):\n",
    "        return torch.zeros(self.num_layers, 1, self.hidden_size, device=device)\n",
    "    \n",
    "    def initCell(self):\n",
    "        return torch.zeros(self.num_layers, 1, self.hidden_size, device=device)"
   ]
  },
  {
   "cell_type": "code",
   "execution_count": 42,
   "id": "15bfa840",
   "metadata": {},
   "outputs": [],
   "source": [
    "teacher_forcing_ratio = 0.5\n",
    "\n",
    "def train(input_tensor, target_tensor, encoder, decoder, \n",
    "          encoder_optimizer, decoder_optimizer, criterion\n",
    "         ):\n",
    "    encoder_hidden = encoder.initHidden()\n",
    "    encoder_cell = encoder.initCell()\n",
    "    \n",
    "    encoder_optimizer.zero_grad()\n",
    "    decoder_optimizer.zero_grad()\n",
    "    \n",
    "    input_length = input_tensor.size(0)\n",
    "    target_length = target_tensor.size(0)\n",
    "    \n",
    "    loss = 0\n",
    "    gold_pred = 0\n",
    "    \n",
    "    for ei in range(input_length):\n",
    "        encoder_output, (encoder_hidden, encoder_cell) = encoder(\n",
    "            input_tensor[ei], (encoder_hidden, encoder_cell))\n",
    "        \n",
    "    decoder_input = torch.tensor([[SOS_token]], device=device)\n",
    "    \n",
    "    decoder_hidden = encoder_hidden\n",
    "    decoder_cell = encoder_cell\n",
    "    # decoder_cell = decoder.initCell()\n",
    "    \n",
    "    use_teacher_forcing = True if random.random() < teacher_forcing_ratio else False\n",
    "    \n",
    "    if use_teacher_forcing:\n",
    "        for di in range(target_length):\n",
    "            decoder_output, (decoder_hidden, decoder_cell) = decoder(\n",
    "                decoder_input, (decoder_hidden, decoder_cell))\n",
    "            topv, topi = decoder_output.topk(1)\n",
    "            pred = topi.squeeze()\n",
    "            \n",
    "            if torch.equal(pred, target_tensor[di].squeeze()):\n",
    "                gold_pred += 1\n",
    "            \n",
    "            loss += criterion(decoder_output, target_tensor[di])\n",
    "            decoder_input = target_tensor[di]\n",
    "            \n",
    "            \n",
    "    else:\n",
    "        for di in range(target_length):\n",
    "            decoder_output, (decoder_hidden, decoder_cell) = decoder(\n",
    "                decoder_input, (decoder_hidden, decoder_cell))\n",
    "            topv, topi = decoder_output.topk(1)\n",
    "            pred = topi.squeeze()\n",
    "            decoder_input = topi.squeeze().detach()\n",
    "            \n",
    "            if torch.equal(pred, target_tensor[di].squeeze()):\n",
    "                gold_pred += 1\n",
    "            \n",
    "            loss += criterion(decoder_output, target_tensor[di])\n",
    "            if decoder_input.item() == EOS_token:\n",
    "                target_length = di + 1\n",
    "                break\n",
    "\n",
    "    loss.backward()\n",
    "    \n",
    "    torch.nn.utils.clip_grad_value_(encoder.parameters(), 5.0)\n",
    "    torch.nn.utils.clip_grad_value_(decoder.parameters(), 5.0)\n",
    "    encoder_optimizer.step()\n",
    "    decoder_optimizer.step()\n",
    "    \n",
    "    return loss.item() / target_length, gold_pred, target_length"
   ]
  },
  {
   "cell_type": "code",
   "execution_count": 43,
   "id": "4aa434e6",
   "metadata": {},
   "outputs": [
    {
     "data": {
      "text/plain": [
       "(tensor([[12],\n",
       "         [ 3],\n",
       "         [10],\n",
       "         [ 8],\n",
       "         [ 6],\n",
       "         [12],\n",
       "         [ 1]], device='cuda:0'),\n",
       " tensor([[5],\n",
       "         [5],\n",
       "         [4],\n",
       "         [5],\n",
       "         [5],\n",
       "         [4],\n",
       "         [5],\n",
       "         [5],\n",
       "         [4],\n",
       "         [4],\n",
       "         [1]], device='cuda:0'))"
      ]
     },
     "execution_count": 43,
     "metadata": {},
     "output_type": "execute_result"
    }
   ],
   "source": [
    "tensorsFromPair(random.choice(pairs))"
   ]
  },
  {
   "cell_type": "code",
   "execution_count": 44,
   "id": "c5f9b4e2",
   "metadata": {},
   "outputs": [],
   "source": [
    "import time\n",
    "import math\n",
    "\n",
    "def asMinutes(s):\n",
    "    m = math.floor(s / 60)\n",
    "    s -= m * 60\n",
    "    return '%dm %ds' % (m, s)\n",
    "\n",
    "def timeSince(since, percent):\n",
    "    now = time.time()\n",
    "    s = now - since\n",
    "    es = s / (percent)\n",
    "    rs = es - s\n",
    "    return '%s (- %s)' % (asMinutes(s), asMinutes(rs))"
   ]
  },
  {
   "cell_type": "code",
   "execution_count": 45,
   "id": "b00de19a",
   "metadata": {},
   "outputs": [],
   "source": [
    "def showPlot(points, accuracy):\n",
    "    plt.figure()\n",
    "    fig, ax = plt.subplots()\n",
    "    loc = ticker.MultipleLocator(base=0.2)\n",
    "    ax.yaxis.set_major_locator(loc)\n",
    "    plt.plot(points)\n",
    "    plt.plot(accuracy)\n",
    "    plt.show()\n",
    "    \n",
    "    \n",
    "def trainIters(encoder, decoder, n_iters, print_every=1000, plot_every=100,\n",
    "               learning_rate=0.001):\n",
    "    start = time.time()\n",
    "    \n",
    "    plot_losses = []\n",
    "    plot_accs = []\n",
    "    print_loss_total = 0\n",
    "    plot_loss_total = 0\n",
    "    print_pred_total = 0\n",
    "    print_label_total = 0\n",
    "    plot_pred_total = 0\n",
    "    plot_label_total = 0\n",
    "    \n",
    "    encoder_optimizer = optim.Adam(encoder.parameters(), lr=learning_rate)\n",
    "    decoder_optimizer = optim.Adam(decoder.parameters(), lr=learning_rate)\n",
    "    training_pairs = [tensorsFromPair(random.choice(pairs))\n",
    "                      for i in range(n_iters)]\n",
    "    criterion = nn.NLLLoss()\n",
    "    \n",
    "    for iter in range(1, n_iters + 1):\n",
    "        training_pair = training_pairs[iter - 1]\n",
    "        input_tensor = training_pair[0]\n",
    "        target_tensor = training_pair[1]\n",
    "        # target_length = target_tensor.size(0)\n",
    "        \n",
    "        loss, gold_pred, target_length = train(input_tensor, target_tensor, encoder,\n",
    "                     decoder, encoder_optimizer, decoder_optimizer, criterion)\n",
    "        print_label_total += target_length\n",
    "        print_pred_total += gold_pred\n",
    "        plot_label_total += target_length\n",
    "        plot_pred_total += gold_pred\n",
    "        print_loss_total += loss\n",
    "        plot_loss_total += loss\n",
    "        \n",
    "        if iter % print_every == 0:\n",
    "            print_acc_avg = print_pred_total / print_label_total\n",
    "            print_loss_avg = print_loss_total / print_every\n",
    "            print_pred_total = 0\n",
    "            print_label_total = 0\n",
    "            print_loss_total = 0\n",
    "            print('%s (%d %d%%) loss: %.4f acc: %.4f' % (timeSince(start, iter / n_iters),\n",
    "                                iter, iter / n_iters * 100, print_loss_avg, print_acc_avg))\n",
    "            \n",
    "        if iter % plot_every == 0:\n",
    "            plot_acc_avg = plot_pred_total / plot_label_total\n",
    "            plot_loss_avg = plot_loss_total / plot_every\n",
    "            plot_losses.append(plot_loss_avg)\n",
    "            plot_accs.append(plot_acc_avg)\n",
    "            plot_loss_total = 0\n",
    "            plot_pred_total = 0\n",
    "            plot_label_total = 0\n",
    "            \n",
    "    showPlot(plot_losses, plot_accs)"
   ]
  },
  {
   "cell_type": "code",
   "execution_count": 95,
   "id": "fcfdcfed",
   "metadata": {},
   "outputs": [],
   "source": [
    "def evaluate(encoder, decoder, pair, max_length=MAX_LENGTH):\n",
    "    with torch.no_grad():\n",
    "        input_tensor, target_tensor = tensorsFromPair(pair)\n",
    "        input_length = input_tensor.size()[0]\n",
    "        encoder_hidden = encoder.initHidden()\n",
    "        encoder_cell = encoder.initCell()\n",
    "\n",
    "        for ei in range(input_length):\n",
    "            encoder_output, (encoder_hidden, encoder_cell) = encoder(input_tensor[ei],\n",
    "                                                    (encoder_hidden, encoder_cell))\n",
    "\n",
    "        decoder_input = torch.tensor([[SOS_token]], device=device)  # SOS\n",
    "\n",
    "        decoder_hidden = encoder_hidden\n",
    "        decoder_cell = encoder_cell\n",
    "        \n",
    "        decoded_words = []\n",
    "\n",
    "        for di in range(max_length):\n",
    "            decoder_output, (decoder_hidden, decoder_cell) = decoder(\n",
    "                decoder_input, (decoder_hidden, decoder_cell))\n",
    "            topv, topi = decoder_output.data.topk(1)\n",
    "            if topi.item() == EOS_token:\n",
    "                decoded_words.append('<EOS>')\n",
    "                break\n",
    "            else:\n",
    "                decoded_words.append(action_le.index2word[topi.item()])\n",
    "\n",
    "            decoder_input = topi.squeeze().detach()\n",
    "\n",
    "        return decoded_words"
   ]
  },
  {
   "cell_type": "code",
   "execution_count": 110,
   "id": "cdbe19ac",
   "metadata": {},
   "outputs": [],
   "source": [
    "def evaluate_model(encoder, decoder, test_pairs):\n",
    "    gold = 0\n",
    "    total_target = 0\n",
    "    for pair in tqdm(test_pairs):\n",
    "        preds = evaluate(encoder, decoder, pair)[:-1]\n",
    "        target_output = pair[1]\n",
    "        length = min(len(preds), len(target_output))\n",
    "        target_length = len(target_output)\n",
    "        total_target += length\n",
    "        \n",
    "        for i in range(length):\n",
    "            if preds[i] == target_output[i]:\n",
    "                gold += 1\n",
    "    return gold / total_target"
   ]
  },
  {
   "cell_type": "code",
   "execution_count": 111,
   "id": "7104852d",
   "metadata": {},
   "outputs": [
    {
     "name": "stderr",
     "output_type": "stream",
     "text": [
      "100%|███████████████████████████████████████████████████████████████████████████| 17565/17565 [02:03<00:00, 142.21it/s]\n"
     ]
    },
    {
     "data": {
      "text/plain": [
       "0.9999085683392035"
      ]
     },
     "execution_count": 111,
     "metadata": {},
     "output_type": "execute_result"
    }
   ],
   "source": [
    "evaluate_model(encoder1, decoder1, test_pairs)"
   ]
  },
  {
   "cell_type": "code",
   "execution_count": 47,
   "id": "4681b3fa",
   "metadata": {
    "scrolled": false
   },
   "outputs": [
    {
     "name": "stdout",
     "output_type": "stream",
     "text": [
      "0m 32s (- 54m 12s) (1000 1%) loss: 1.3601 acc: 0.5374\n",
      "0m 55s (- 45m 1s) (2000 2%) loss: 0.7826 acc: 0.7250\n",
      "1m 16s (- 41m 23s) (3000 3%) loss: 0.5323 acc: 0.8174\n",
      "1m 39s (- 39m 37s) (4000 4%) loss: 0.4138 acc: 0.8489\n",
      "2m 1s (- 38m 21s) (5000 5%) loss: 0.3445 acc: 0.8749\n",
      "2m 23s (- 37m 28s) (6000 6%) loss: 0.2635 acc: 0.9020\n",
      "2m 45s (- 36m 40s) (7000 7%) loss: 0.2271 acc: 0.9131\n",
      "3m 7s (- 35m 57s) (8000 8%) loss: 0.1949 acc: 0.9208\n",
      "3m 29s (- 35m 21s) (9000 9%) loss: 0.1639 acc: 0.9334\n",
      "3m 52s (- 34m 52s) (10000 10%) loss: 0.1369 acc: 0.9450\n",
      "4m 14s (- 34m 18s) (11000 11%) loss: 0.1120 acc: 0.9531\n",
      "4m 36s (- 33m 45s) (12000 12%) loss: 0.0992 acc: 0.9597\n",
      "4m 58s (- 33m 19s) (13000 13%) loss: 0.0880 acc: 0.9646\n",
      "5m 20s (- 32m 49s) (14000 14%) loss: 0.0806 acc: 0.9681\n",
      "5m 42s (- 32m 22s) (15000 15%) loss: 0.0701 acc: 0.9691\n",
      "6m 5s (- 31m 57s) (16000 16%) loss: 0.0575 acc: 0.9753\n",
      "6m 27s (- 31m 31s) (17000 17%) loss: 0.0541 acc: 0.9752\n",
      "6m 49s (- 31m 6s) (18000 18%) loss: 0.0514 acc: 0.9786\n",
      "7m 11s (- 30m 39s) (19000 19%) loss: 0.0416 acc: 0.9811\n",
      "7m 33s (- 30m 13s) (20000 20%) loss: 0.0275 acc: 0.9848\n",
      "7m 55s (- 29m 49s) (21000 21%) loss: 0.0350 acc: 0.9841\n",
      "8m 18s (- 29m 27s) (22000 22%) loss: 0.0283 acc: 0.9872\n",
      "8m 40s (- 29m 3s) (23000 23%) loss: 0.0331 acc: 0.9877\n",
      "9m 3s (- 28m 40s) (24000 24%) loss: 0.0211 acc: 0.9901\n",
      "9m 26s (- 28m 18s) (25000 25%) loss: 0.0265 acc: 0.9886\n",
      "9m 48s (- 27m 55s) (26000 26%) loss: 0.0303 acc: 0.9876\n",
      "10m 10s (- 27m 31s) (27000 27%) loss: 0.0136 acc: 0.9936\n",
      "10m 32s (- 27m 6s) (28000 28%) loss: 0.0309 acc: 0.9888\n",
      "10m 54s (- 26m 42s) (29000 28%) loss: 0.0228 acc: 0.9915\n",
      "11m 17s (- 26m 21s) (30000 30%) loss: 0.0196 acc: 0.9907\n",
      "11m 39s (- 25m 57s) (31000 31%) loss: 0.0199 acc: 0.9930\n",
      "12m 2s (- 25m 35s) (32000 32%) loss: 0.0162 acc: 0.9932\n",
      "12m 24s (- 25m 12s) (33000 33%) loss: 0.0095 acc: 0.9955\n",
      "12m 47s (- 24m 49s) (34000 34%) loss: 0.0128 acc: 0.9943\n",
      "13m 9s (- 24m 26s) (35000 35%) loss: 0.0164 acc: 0.9940\n",
      "13m 31s (- 24m 3s) (36000 36%) loss: 0.0104 acc: 0.9950\n",
      "13m 53s (- 23m 39s) (37000 37%) loss: 0.0043 acc: 0.9993\n",
      "14m 16s (- 23m 17s) (38000 38%) loss: 0.0055 acc: 0.9983\n",
      "14m 39s (- 22m 54s) (39000 39%) loss: 0.0087 acc: 0.9970\n",
      "15m 1s (- 22m 31s) (40000 40%) loss: 0.0100 acc: 0.9967\n",
      "15m 22s (- 22m 8s) (41000 41%) loss: 0.0059 acc: 0.9989\n",
      "15m 45s (- 21m 45s) (42000 42%) loss: 0.0048 acc: 0.9980\n",
      "16m 8s (- 21m 24s) (43000 43%) loss: 0.0141 acc: 0.9962\n",
      "16m 31s (- 21m 2s) (44000 44%) loss: 0.0115 acc: 0.9979\n",
      "16m 54s (- 20m 39s) (45000 45%) loss: 0.0016 acc: 0.9997\n",
      "17m 17s (- 20m 17s) (46000 46%) loss: 0.0082 acc: 0.9981\n",
      "17m 39s (- 19m 55s) (47000 47%) loss: 0.0022 acc: 0.9992\n",
      "18m 2s (- 19m 32s) (48000 48%) loss: 0.0186 acc: 0.9944\n",
      "18m 24s (- 19m 9s) (49000 49%) loss: 0.0047 acc: 0.9991\n",
      "18m 47s (- 18m 47s) (50000 50%) loss: 0.0018 acc: 0.9993\n",
      "19m 8s (- 18m 23s) (51000 51%) loss: 0.0041 acc: 0.9990\n",
      "19m 30s (- 18m 0s) (52000 52%) loss: 0.0053 acc: 0.9987\n",
      "19m 53s (- 17m 38s) (53000 53%) loss: 0.0124 acc: 0.9986\n",
      "20m 16s (- 17m 16s) (54000 54%) loss: 0.0017 acc: 0.9998\n",
      "20m 38s (- 16m 53s) (55000 55%) loss: 0.0134 acc: 0.9965\n",
      "21m 1s (- 16m 31s) (56000 56%) loss: 0.0067 acc: 0.9986\n",
      "21m 24s (- 16m 8s) (57000 56%) loss: 0.0039 acc: 0.9985\n",
      "21m 46s (- 15m 46s) (58000 57%) loss: 0.0010 acc: 0.9998\n",
      "22m 9s (- 15m 23s) (59000 59%) loss: 0.0014 acc: 0.9995\n",
      "22m 31s (- 15m 1s) (60000 60%) loss: 0.0035 acc: 0.9988\n",
      "22m 54s (- 14m 38s) (61000 61%) loss: 0.0076 acc: 0.9983\n",
      "23m 16s (- 14m 16s) (62000 62%) loss: 0.0025 acc: 0.9991\n",
      "23m 39s (- 13m 53s) (63000 63%) loss: 0.0134 acc: 0.9966\n",
      "24m 1s (- 13m 30s) (64000 64%) loss: 0.0010 acc: 0.9997\n",
      "24m 23s (- 13m 8s) (65000 65%) loss: 0.0002 acc: 0.9999\n",
      "24m 45s (- 12m 45s) (66000 66%) loss: 0.0056 acc: 0.9990\n",
      "25m 8s (- 12m 22s) (67000 67%) loss: 0.0015 acc: 0.9998\n",
      "25m 30s (- 12m 0s) (68000 68%) loss: 0.0002 acc: 1.0000\n",
      "25m 53s (- 11m 37s) (69000 69%) loss: 0.0032 acc: 0.9994\n",
      "26m 15s (- 11m 15s) (70000 70%) loss: 0.0044 acc: 0.9988\n",
      "26m 37s (- 10m 52s) (71000 71%) loss: 0.0030 acc: 0.9991\n",
      "27m 0s (- 10m 30s) (72000 72%) loss: 0.0026 acc: 0.9990\n",
      "27m 22s (- 10m 7s) (73000 73%) loss: 0.0058 acc: 0.9988\n",
      "27m 45s (- 9m 45s) (74000 74%) loss: 0.0100 acc: 0.9979\n",
      "28m 7s (- 9m 22s) (75000 75%) loss: 0.0022 acc: 0.9992\n",
      "28m 30s (- 9m 0s) (76000 76%) loss: 0.0022 acc: 0.9995\n",
      "28m 51s (- 8m 37s) (77000 77%) loss: 0.0012 acc: 0.9998\n",
      "29m 15s (- 8m 15s) (78000 78%) loss: 0.0231 acc: 0.9982\n",
      "29m 37s (- 7m 52s) (79000 79%) loss: 0.0050 acc: 0.9988\n",
      "30m 0s (- 7m 30s) (80000 80%) loss: 0.0050 acc: 0.9981\n",
      "30m 23s (- 7m 7s) (81000 81%) loss: 0.0008 acc: 0.9999\n",
      "30m 45s (- 6m 45s) (82000 82%) loss: 0.0001 acc: 1.0000\n",
      "31m 8s (- 6m 22s) (83000 83%) loss: 0.0005 acc: 0.9999\n",
      "31m 30s (- 6m 0s) (84000 84%) loss: 0.0001 acc: 1.0000\n",
      "31m 53s (- 5m 37s) (85000 85%) loss: 0.0000 acc: 1.0000\n",
      "32m 16s (- 5m 15s) (86000 86%) loss: 0.0000 acc: 1.0000\n",
      "32m 38s (- 4m 52s) (87000 87%) loss: 0.0000 acc: 1.0000\n",
      "33m 2s (- 4m 30s) (88000 88%) loss: 0.0000 acc: 1.0000\n",
      "33m 25s (- 4m 7s) (89000 89%) loss: 0.0258 acc: 0.9928\n",
      "33m 47s (- 3m 45s) (90000 90%) loss: 0.0041 acc: 0.9993\n",
      "34m 10s (- 3m 22s) (91000 91%) loss: 0.0021 acc: 0.9992\n",
      "34m 32s (- 3m 0s) (92000 92%) loss: 0.0067 acc: 0.9983\n",
      "34m 55s (- 2m 37s) (93000 93%) loss: 0.0028 acc: 0.9993\n",
      "35m 17s (- 2m 15s) (94000 94%) loss: 0.0002 acc: 1.0000\n",
      "35m 39s (- 1m 52s) (95000 95%) loss: 0.0002 acc: 1.0000\n",
      "36m 2s (- 1m 30s) (96000 96%) loss: 0.0032 acc: 0.9990\n",
      "36m 25s (- 1m 7s) (97000 97%) loss: 0.0021 acc: 0.9992\n",
      "36m 47s (- 0m 45s) (98000 98%) loss: 0.0044 acc: 0.9992\n",
      "37m 9s (- 0m 22s) (99000 99%) loss: 0.0009 acc: 0.9997\n",
      "37m 32s (- 0m 0s) (100000 100%) loss: 0.0002 acc: 1.0000\n"
     ]
    },
    {
     "data": {
      "text/plain": [
       "<Figure size 432x288 with 0 Axes>"
      ]
     },
     "metadata": {},
     "output_type": "display_data"
    },
    {
     "data": {
      "image/png": "[encoded data removed]",
      "text/plain": [
       "<Figure size 432x288 with 1 Axes>"
      ]
     },
     "metadata": {
      "needs_background": "light"
     },
     "output_type": "display_data"
    }
   ],
   "source": [
    "hidden_size = 200\n",
    "input_size = command_le.n_words\n",
    "output_size = action_le.n_words\n",
    "encoder1 = EncoderRNN(input_size, hidden_size, num_layers=2, dropout=0).to(device)\n",
    "decoder1 = DecoderRNN(hidden_size, output_size, num_layers=2, dropout=0).to(device)\n",
    "\n",
    "trainIters(encoder1, decoder1, 100000, print_every=1000)"
   ]
  },
  {
   "cell_type": "code",
   "execution_count": 60,
   "id": "0e41709e",
   "metadata": {},
   "outputs": [
    {
     "data": {
      "text/plain": [
       "(15, 8)"
      ]
     },
     "execution_count": 60,
     "metadata": {},
     "output_type": "execute_result"
    }
   ],
   "source": [
    "input_size, output_size"
   ]
  },
  {
   "cell_type": "code",
   "execution_count": 93,
   "id": "7afb7836",
   "metadata": {
    "scrolled": true
   },
   "outputs": [
    {
     "name": "stdout",
     "output_type": "stream",
     "text": [
      "[['walk', 'opposite', 'right', 'thrice', 'and', 'run', 'twice'], ['I_TURN_RIGHT', 'I_TURN_RIGHT', 'I_WALK', 'I_TURN_RIGHT', 'I_TURN_RIGHT', 'I_WALK', 'I_TURN_RIGHT', 'I_TURN_RIGHT', 'I_WALK', 'I_RUN', 'I_RUN', '<EOS>']]\n"
     ]
    },
    {
     "ename": "KeyError",
     "evalue": "'<EOS>'",
     "output_type": "error",
     "traceback": [
      "\u001b[1;31m---------------------------------------------------------------------------\u001b[0m",
      "\u001b[1;31mKeyError\u001b[0m                                  Traceback (most recent call last)",
      "Input \u001b[1;32mIn [93]\u001b[0m, in \u001b[0;36m<cell line: 1>\u001b[1;34m()\u001b[0m\n\u001b[1;32m----> 1\u001b[0m \u001b[43mevaluate_model\u001b[49m\u001b[43m(\u001b[49m\u001b[43mencoder1\u001b[49m\u001b[43m,\u001b[49m\u001b[43m \u001b[49m\u001b[43mdecoder1\u001b[49m\u001b[43m,\u001b[49m\u001b[43m \u001b[49m\u001b[43mtest_pairs\u001b[49m\u001b[43m)\u001b[49m\n",
      "Input \u001b[1;32mIn [84]\u001b[0m, in \u001b[0;36mevaluate_model\u001b[1;34m(encoder, decoder, test_pairs)\u001b[0m\n\u001b[0;32m      6\u001b[0m target_output\u001b[38;5;241m.\u001b[39mappend(\u001b[38;5;124m'\u001b[39m\u001b[38;5;124m<EOS>\u001b[39m\u001b[38;5;124m'\u001b[39m)\n\u001b[0;32m      7\u001b[0m \u001b[38;5;28mprint\u001b[39m(pair)\n\u001b[1;32m----> 8\u001b[0m preds \u001b[38;5;241m=\u001b[39m \u001b[43mevaluate\u001b[49m\u001b[43m(\u001b[49m\u001b[43mencoder\u001b[49m\u001b[43m,\u001b[49m\u001b[43m \u001b[49m\u001b[43mdecoder\u001b[49m\u001b[43m,\u001b[49m\u001b[43m \u001b[49m\u001b[43mpair\u001b[49m\u001b[43m)\u001b[49m\n\u001b[0;32m      9\u001b[0m length \u001b[38;5;241m=\u001b[39m \u001b[38;5;28mmin\u001b[39m(\u001b[38;5;28mlen\u001b[39m(preds), \u001b[38;5;28mlen\u001b[39m(target_output))\n\u001b[0;32m     10\u001b[0m target_length \u001b[38;5;241m=\u001b[39m \u001b[38;5;28mlen\u001b[39m(target_output)\n",
      "Input \u001b[1;32mIn [82]\u001b[0m, in \u001b[0;36mevaluate\u001b[1;34m(encoder, decoder, pair, max_length)\u001b[0m\n\u001b[0;32m      1\u001b[0m \u001b[38;5;28;01mdef\u001b[39;00m \u001b[38;5;21mevaluate\u001b[39m(encoder, decoder, pair, max_length\u001b[38;5;241m=\u001b[39mMAX_LENGTH):\n\u001b[0;32m      2\u001b[0m     \u001b[38;5;28;01mwith\u001b[39;00m torch\u001b[38;5;241m.\u001b[39mno_grad():\n\u001b[1;32m----> 3\u001b[0m         input_tensor, target_tensor \u001b[38;5;241m=\u001b[39m \u001b[43mtensorsFromPair\u001b[49m\u001b[43m(\u001b[49m\u001b[43mpair\u001b[49m\u001b[43m)\u001b[49m\n\u001b[0;32m      4\u001b[0m         input_length \u001b[38;5;241m=\u001b[39m input_tensor\u001b[38;5;241m.\u001b[39msize()[\u001b[38;5;241m0\u001b[39m]\n\u001b[0;32m      5\u001b[0m         encoder_hidden \u001b[38;5;241m=\u001b[39m encoder\u001b[38;5;241m.\u001b[39minitHidden()\n",
      "Input \u001b[1;32mIn [38]\u001b[0m, in \u001b[0;36mtensorsFromPair\u001b[1;34m(pair)\u001b[0m\n\u001b[0;32m      9\u001b[0m \u001b[38;5;28;01mdef\u001b[39;00m \u001b[38;5;21mtensorsFromPair\u001b[39m(pair):\n\u001b[0;32m     10\u001b[0m     input_tensor \u001b[38;5;241m=\u001b[39m tensorFromSentence(command_le, pair[\u001b[38;5;241m0\u001b[39m])\n\u001b[1;32m---> 11\u001b[0m     target_tensor \u001b[38;5;241m=\u001b[39m \u001b[43mtensorFromSentence\u001b[49m\u001b[43m(\u001b[49m\u001b[43maction_le\u001b[49m\u001b[43m,\u001b[49m\u001b[43m \u001b[49m\u001b[43mpair\u001b[49m\u001b[43m[\u001b[49m\u001b[38;5;241;43m1\u001b[39;49m\u001b[43m]\u001b[49m\u001b[43m)\u001b[49m\n\u001b[0;32m     12\u001b[0m     \u001b[38;5;28;01mreturn\u001b[39;00m (input_tensor, target_tensor)\n",
      "Input \u001b[1;32mIn [38]\u001b[0m, in \u001b[0;36mtensorFromSentence\u001b[1;34m(le, sentence)\u001b[0m\n\u001b[0;32m      4\u001b[0m \u001b[38;5;28;01mdef\u001b[39;00m \u001b[38;5;21mtensorFromSentence\u001b[39m(le, sentence):\n\u001b[1;32m----> 5\u001b[0m     indexes \u001b[38;5;241m=\u001b[39m \u001b[43mindexesFromSentence\u001b[49m\u001b[43m(\u001b[49m\u001b[43mle\u001b[49m\u001b[43m,\u001b[49m\u001b[43m \u001b[49m\u001b[43msentence\u001b[49m\u001b[43m)\u001b[49m\n\u001b[0;32m      6\u001b[0m     indexes\u001b[38;5;241m.\u001b[39mappend(EOS_token)\n\u001b[0;32m      7\u001b[0m     \u001b[38;5;28;01mreturn\u001b[39;00m torch\u001b[38;5;241m.\u001b[39mtensor(indexes, dtype\u001b[38;5;241m=\u001b[39mtorch\u001b[38;5;241m.\u001b[39mlong, device\u001b[38;5;241m=\u001b[39mdevice)\u001b[38;5;241m.\u001b[39mview(\u001b[38;5;241m-\u001b[39m\u001b[38;5;241m1\u001b[39m,\u001b[38;5;241m1\u001b[39m)\n",
      "Input \u001b[1;32mIn [38]\u001b[0m, in \u001b[0;36mindexesFromSentence\u001b[1;34m(le, sentence)\u001b[0m\n\u001b[0;32m      1\u001b[0m \u001b[38;5;28;01mdef\u001b[39;00m \u001b[38;5;21mindexesFromSentence\u001b[39m(le, sentence):\n\u001b[1;32m----> 2\u001b[0m     \u001b[38;5;28;01mreturn\u001b[39;00m [le\u001b[38;5;241m.\u001b[39mword2index[word] \u001b[38;5;28;01mfor\u001b[39;00m word \u001b[38;5;129;01min\u001b[39;00m sentence]\n",
      "Input \u001b[1;32mIn [38]\u001b[0m, in \u001b[0;36m<listcomp>\u001b[1;34m(.0)\u001b[0m\n\u001b[0;32m      1\u001b[0m \u001b[38;5;28;01mdef\u001b[39;00m \u001b[38;5;21mindexesFromSentence\u001b[39m(le, sentence):\n\u001b[1;32m----> 2\u001b[0m     \u001b[38;5;28;01mreturn\u001b[39;00m [\u001b[43mle\u001b[49m\u001b[38;5;241;43m.\u001b[39;49m\u001b[43mword2index\u001b[49m\u001b[43m[\u001b[49m\u001b[43mword\u001b[49m\u001b[43m]\u001b[49m \u001b[38;5;28;01mfor\u001b[39;00m word \u001b[38;5;129;01min\u001b[39;00m sentence]\n",
      "\u001b[1;31mKeyError\u001b[0m: '<EOS>'"
     ]
    }
   ],
   "source": [
    "evaluate_model(encoder1, decoder1, test_pairs)"
   ]
  },
  {
   "cell_type": "code",
   "execution_count": 61,
   "id": "07ca326b",
   "metadata": {
    "scrolled": true
   },
   "outputs": [
    {
     "data": {
      "text/plain": [
       "[['turn', 'opposite', 'left', 'thrice', 'after', 'walk', 'around', 'left'],\n",
       " ['I_TURN_LEFT',\n",
       "  'I_WALK',\n",
       "  'I_TURN_LEFT',\n",
       "  'I_WALK',\n",
       "  'I_TURN_LEFT',\n",
       "  'I_WALK',\n",
       "  'I_TURN_LEFT',\n",
       "  'I_WALK',\n",
       "  'I_TURN_LEFT',\n",
       "  'I_TURN_LEFT',\n",
       "  'I_TURN_LEFT',\n",
       "  'I_TURN_LEFT',\n",
       "  'I_TURN_LEFT',\n",
       "  'I_TURN_LEFT']]"
      ]
     },
     "execution_count": 61,
     "metadata": {},
     "output_type": "execute_result"
    }
   ],
   "source": [
    "pairs[12]"
   ]
  },
  {
   "cell_type": "code",
   "execution_count": null,
   "id": "72006df6",
   "metadata": {},
   "outputs": [],
   "source": []
  },
  {
   "cell_type": "code",
   "execution_count": null,
   "id": "714292b3",
   "metadata": {},
   "outputs": [],
   "source": [
    "class EncoderGRU(nn.Module):\n",
    "    def __init__(self, input_size, hidden_size, num_layers, dropout):\n",
    "        super(EncoderGRU, self).__init__()\n",
    "        self.hidden_size = hidden_size\n",
    "        self.num_layers = num_layers\n",
    "        \n",
    "        self.embedding = nn.Embedding(input_size, hidden_size)\n",
    "        self.dropout = nn.Dropout(p=dropout)\n",
    "        self.gru = nn.GRU(hidden_size, hidden_size, num_layers=num_layers, dropout=dropout)\n",
    "        \n",
    "    def forward(self, input, hidden):\n",
    "        embedded = self.embedding(input).view(1, 1, -1)\n",
    "        output = embedded\n",
    "        output, hidden = self.gru(output, hidden)\n",
    "        return output, hidden\n",
    "    \n",
    "    def initHidden(self):\n",
    "        return torch.zeros(self.num_layers, 1, self.hidden_size, device=device)"
   ]
  },
  {
   "cell_type": "code",
   "execution_count": null,
   "id": "48a10070",
   "metadata": {},
   "outputs": [],
   "source": [
    "class AttnDecoderGRU(nn.Module):\n",
    "    def __init__(self, hidden_size, output_size, dropout_p=0.5):\n",
    "        super(AttnDecoderGRU, self).__init__()\n",
    "        self.hidden_size = hidden_size\n",
    "        self.output_size = output_size\n",
    "        self.dropout_p = dropout_p\n",
    "\n",
    "        self.embedding = nn.Embedding(self.output_size, self.hidden_size)\n",
    "        self.tanh = nn.Tanh()\n",
    "        self.Ua = nn.Linear(self.hidden_size, self.hidden_size)\n",
    "        self.Wa = nn.Linear(self.hidden_size, self.hidden_size)\n",
    "        self.va = torch.tensor(torch.randn(1, hidden_size), requires_grad=True).cuda()\n",
    "        \n",
    "        self.attn_combine = nn.Linear(self.hidden_size * 2, self.hidden_size)\n",
    "        self.dropout = nn.Dropout(self.dropout_p)\n",
    "        self.gru = nn.GRU(self.hidden_size, self.hidden_size)\n",
    "        self.out = nn.Linear(self.hidden_size * 2, self.output_size)\n",
    "        \n",
    "    def forward(self, input, hidden, encoder_hiddens):\n",
    "        embedded = self.embedding(input).view(1, 1, -1)\n",
    "        embedded = self.dropout(embedded)\n",
    "        \n",
    "        encoder_hiddens = encoder_hiddens.unsqueeze(1)\n",
    "        attn_weights = F.softmax(torch.inner(\n",
    "            self.va, self.tanh(self.Ua(encoder_hiddens) + self.Wa(hidden))), dim=1)\n",
    "        \n",
    "        context = torch.sum(\n",
    "            torch.mul(attn_weights, encoder_hiddens.squeeze()), dim=1)\n",
    "\n",
    "        output = torch.cat((embedded[0], context), 1)\n",
    "        output = self.attn_combine(output).unsqueeze(0)\n",
    "\n",
    "        output = F.relu(output)\n",
    "        output, hidden = self.gru(output, hidden)\n",
    "        \n",
    "        cat_output = torch.cat((context, hidden[0]), 1)\n",
    "        output = F.log_softmax(self.out(cat_output), dim=1)\n",
    "\n",
    "        return output, hidden, attn_weights\n",
    "    \n",
    "    def initHidden(self):\n",
    "        return torch.zeros(1, 1, self.hidden_size, device=device)"
   ]
  },
  {
   "cell_type": "code",
   "execution_count": null,
   "id": "5ea6ac18",
   "metadata": {},
   "outputs": [],
   "source": [
    "pairtensor = tensorsFromPair(pairs[0])\n",
    "input_tensor = pairtensor[0]\n",
    "target_tensor = pairtensor[1]\n",
    "input_size = len(command_le.classes_)\n",
    "output_size = len(action_le.classes_)\n",
    "hidden_size = 200\n",
    "hidden = torch.zeros(1,1,hidden_size, device=device)\n",
    "\n",
    "embedding = nn.Embedding(input_size, hidden_size).cuda()\n",
    "gru = nn.GRU(hidden_size, hidden_size).cuda()\n",
    "embedded = embedding(input_tensor)\n",
    "output = embedded\n",
    "output, hidden = gru(output, hidden)"
   ]
  },
  {
   "cell_type": "code",
   "execution_count": null,
   "id": "3f4882ca",
   "metadata": {},
   "outputs": [],
   "source": [
    "output_size"
   ]
  },
  {
   "cell_type": "code",
   "execution_count": null,
   "id": "579e2fe3",
   "metadata": {},
   "outputs": [],
   "source": [
    "hiddens = torch.randn(9,1,200).cuda()\n",
    "hidden = torch.randn(1,1,200).cuda()\n",
    "tanh = nn.Tanh()\n",
    "Ua = nn.Linear(200, 200).cuda()\n",
    "Wa = nn.Linear(200, 200).cuda()\n",
    "va = torch.tensor(torch.randn(1, 200)).cuda()\n",
    "#weights = torch.inner(Ua, hiddens).squeeze() + torch.inner(Wa, hidden).squeeze()\n",
    "weights = F.softmax(torch.inner(va, tanh(Ua(hiddens)+Wa(hidden))), dim=1)"
   ]
  },
  {
   "cell_type": "code",
   "execution_count": null,
   "id": "c385fcce",
   "metadata": {},
   "outputs": [],
   "source": [
    "context = torch.sum(\n",
    "            torch.mul(weights, hiddens.squeeze()), dim=1)\n",
    "context.shape"
   ]
  },
  {
   "cell_type": "code",
   "execution_count": null,
   "id": "d2e3fc85",
   "metadata": {},
   "outputs": [],
   "source": [
    "teacher_forcing_ratio = 0.5\n",
    "\n",
    "def train2(input_tensor, target_tensor, encoder, decoder, \n",
    "          encoder_optimizer, decoder_optimizer, criterion\n",
    "          ):\n",
    "    encoder_hidden = encoder.initHidden()\n",
    "    \n",
    "    encoder_optimizer.zero_grad()\n",
    "    decoder_optimizer.zero_grad()\n",
    "    \n",
    "    input_length = input_tensor.size(0)\n",
    "    target_length = target_tensor.size(0)\n",
    "    \n",
    "    encoder_hiddens = torch.zeros(input_length, encoder.hidden_size, device=device)\n",
    "    \n",
    "    loss = 0\n",
    "    gold_pred = 0\n",
    "    \n",
    "    for ei in range(input_length):\n",
    "        encoder_output, encoder_hidden = encoder(\n",
    "            input_tensor[ei], encoder_hidden)\n",
    "        encoder_hiddens[ei] = encoder_hidden[0, 0]\n",
    "        \n",
    "    decoder_input = torch.tensor([[SOS_token]], device=device)\n",
    "    \n",
    "    decoder_hidden = encoder_hidden\n",
    "    \n",
    "    use_teacher_forcing = True if random.random() < teacher_forcing_ratio else False\n",
    "    \n",
    "    if use_teacher_forcing:\n",
    "        for di in range(target_length):\n",
    "            decoder_output, decoder_hidden, decoder_attention = decoder(\n",
    "                decoder_input, decoder_hidden, encoder_hiddens)\n",
    "            topv, topi = decoder_output.topk(1)\n",
    "            pred = topi.squeeze()\n",
    "            \n",
    "            if torch.equal(pred, target_tensor[di].squeeze()):\n",
    "                gold_pred += 1\n",
    "            \n",
    "            loss += criterion(decoder_output, target_tensor[di])\n",
    "            decoder_input = target_tensor[di]\n",
    "            \n",
    "    else:\n",
    "        for di in range(target_length):\n",
    "            decoder_output, decoder_hidden, decoder_attention = decoder(\n",
    "                decoder_input, decoder_hidden, encoder_hiddens)\n",
    "            topv, topi = decoder_output.topk(1)\n",
    "            pred = topi.squeeze()\n",
    "            decoder_input = topi.squeeze().detach()\n",
    "            \n",
    "            if torch.equal(pred, target_tensor[di].squeeze()):\n",
    "                gold_pred += 1\n",
    "            \n",
    "            loss += criterion(decoder_output, target_tensor[di])\n",
    "            if decoder_input.item() == EOS_token:\n",
    "                target_length = di + 1\n",
    "                break\n",
    "\n",
    "    loss.backward()\n",
    "    \n",
    "    torch.nn.utils.clip_grad_norm_(encoder.parameters(), max_norm=5.0)\n",
    "    torch.nn.utils.clip_grad_norm_(decoder.parameters(), max_norm=5.0)\n",
    "    encoder_optimizer.step()\n",
    "    decoder_optimizer.step()\n",
    "    \n",
    "    return loss.item() / target_length, gold_pred, target_length"
   ]
  },
  {
   "cell_type": "code",
   "execution_count": null,
   "id": "8b418fb6",
   "metadata": {},
   "outputs": [],
   "source": [
    "def trainIters2(encoder, decoder, n_iters, print_every=1000, plot_every=100,\n",
    "               learning_rate=0.001):\n",
    "    start = time.time()\n",
    "    \n",
    "    plot_losses = []\n",
    "    plot_accs = []\n",
    "    print_loss_total = 0\n",
    "    plot_loss_total = 0\n",
    "    print_pred_total = 0\n",
    "    print_label_total = 0\n",
    "    plot_pred_total = 0\n",
    "    plot_label_total = 0\n",
    "    \n",
    "    encoder_optimizer = optim.Adam(encoder.parameters(), lr=learning_rate)\n",
    "    decoder_optimizer = optim.Adam(decoder.parameters(), lr=learning_rate)\n",
    "    training_pairs = [tensorsFromPair(random.choice(pairs))\n",
    "                      for i in range(n_iters)]\n",
    "    criterion = nn.NLLLoss()\n",
    "    \n",
    "    for iter in range(1, n_iters + 1):\n",
    "        training_pair = training_pairs[iter - 1]\n",
    "        input_tensor = training_pair[0]\n",
    "        target_tensor = training_pair[1]\n",
    "        # target_length = target_tensor.size(0)\n",
    "        \n",
    "        loss, gold_pred, target_length = train2(input_tensor, target_tensor, encoder,\n",
    "                     decoder, encoder_optimizer, decoder_optimizer, criterion)\n",
    "        print_label_total += target_length\n",
    "        print_pred_total += gold_pred\n",
    "        plot_label_total += target_length\n",
    "        plot_pred_total += gold_pred\n",
    "        print_loss_total += loss\n",
    "        plot_loss_total += loss\n",
    "        \n",
    "        if iter % print_every == 0:\n",
    "            print_acc_avg = print_pred_total / print_label_total\n",
    "            print_loss_avg = print_loss_total / print_every\n",
    "            print_pred_total = 0\n",
    "            print_label_total = 0\n",
    "            print_loss_total = 0\n",
    "            print('%s (%d %d%%) loss: %.4f acc: %.4f' % (timeSince(start, iter / n_iters),\n",
    "                                iter, iter / n_iters * 100, print_loss_avg, print_acc_avg))\n",
    "            \n",
    "        if iter % plot_every == 0:\n",
    "            plot_acc_avg = plot_pred_total / plot_label_total\n",
    "            plot_loss_avg = plot_loss_total / plot_every\n",
    "            plot_losses.append(plot_loss_avg)\n",
    "            plot_accs.append(plot_acc_avg)\n",
    "            plot_loss_total = 0\n",
    "            plot_pred_total = 0\n",
    "            plot_label_total = 0\n",
    "            \n",
    "    showPlot(plot_losses, plot_accs)\n",
    "    return encoder, decoder"
   ]
  },
  {
   "cell_type": "code",
   "execution_count": null,
   "id": "176d0184",
   "metadata": {},
   "outputs": [],
   "source": [
    "hidden_size = 50\n",
    "input_size = len(command_le.classes_)\n",
    "output_size = len(action_le.classes_)\n",
    "encoder1 = EncoderGRU(input_size, hidden_size, num_layers=1, dropout=0.5).to(device)\n",
    "decoder1 = AttnDecoderGRU(hidden_size, output_size, dropout_p=0.5).to(device)\n",
    "\n",
    "encoder1, decoder1 = trainIters2(encoder1, decoder1, 10000, print_every=1000)"
   ]
  },
  {
   "cell_type": "code",
   "execution_count": null,
   "id": "3b466203",
   "metadata": {},
   "outputs": [],
   "source": [
    "def evaluate(encoder, decoder, pair, max_length=MAX_LENGTH):\n",
    "    with torch.no_grad():\n",
    "        input_tensor, target_tensor = tensorsFromPair(pair)\n",
    "        input_length = input_tensor.size()[0]\n",
    "        encoder_hidden = encoder.initHidden()\n",
    "        \n",
    "        encoder_hiddens = torch.zeros(max_length, encoder.hidden_size, device=device)\n",
    "\n",
    "        for ei in range(input_length):\n",
    "            encoder_output, encoder_hidden = encoder(input_tensor[ei], encoder_hidden)\n",
    "            \n",
    "            encoder_hiddens[ei] = encoder_hidden[0, 0]\n",
    "\n",
    "        decoder_input = torch.tensor([[SOS_token]], device=device)  # SOS\n",
    "\n",
    "        decoder_hidden = encoder_hidden\n",
    "        \n",
    "        decoded_words = []\n",
    "\n",
    "        for di in range(max_length):\n",
    "            decoder_output, decoder_hidden, decoder_attention = decoder(\n",
    "                decoder_input, decoder_hidden, encoder_hiddens)\n",
    "            topv, topi = decoder_output.data.topk(1)\n",
    "            if topi.item() == EOS_token:\n",
    "                decoded_words.append('<EOS>')\n",
    "                break\n",
    "            else:\n",
    "                decoded_words.append(action_le.transform(topi.item()))\n",
    "\n",
    "            decoder_input = topi.squeeze().detach()\n",
    "\n",
    "        return decoded_words"
   ]
  },
  {
   "cell_type": "code",
   "execution_count": null,
   "id": "25dfc9ec",
   "metadata": {},
   "outputs": [],
   "source": [
    "evaluate(encoder1, decoder1, pairs[2122])"
   ]
  },
  {
   "cell_type": "code",
   "execution_count": null,
   "id": "307c4e5c",
   "metadata": {},
   "outputs": [],
   "source": [
    "input_tensor, target_tensor = tensorsFromPair(pairs[123])\n",
    "input_length = input_tensor.size()[0]\n",
    "encoder_hidden = encoder1.initHidden()\n",
    "\n",
    "encoder_hiddens = torch.zeros(10, encoder1.hidden_size, device=device)\n",
    "\n",
    "for ei in range(input_length):\n",
    "    encoder_output, encoder_hidden = encoder1(input_tensor[ei], encoder_hidden)\n",
    "\n",
    "    encoder_hiddens[ei] = encoder_hidden[0, 0]"
   ]
  },
  {
   "cell_type": "code",
   "execution_count": null,
   "id": "5a44a34b",
   "metadata": {},
   "outputs": [],
   "source": [
    "decoder_input = torch.tensor([[SOS_token]], device=device)  # SOS\n",
    "\n",
    "decoder_hidden = encoder_hidden\n",
    "\n",
    "decoded_words = []"
   ]
  },
  {
   "cell_type": "code",
   "execution_count": null,
   "id": "9e013c3b",
   "metadata": {},
   "outputs": [],
   "source": [
    "decoder_output, decoder_hidden, decoder_attention = decoder1(\n",
    "                decoder_input, decoder_hidden, encoder_hiddens)\n"
   ]
  },
  {
   "cell_type": "code",
   "execution_count": null,
   "id": "4a167eb6",
   "metadata": {},
   "outputs": [],
   "source": [
    "topv, topi = decoder_output.data.topk(1)\n",
    "topv, topi, decoder_output"
   ]
  }
 ],
 "metadata": {
  "kernelspec": {
   "display_name": "Python 3 (ipykernel)",
   "language": "python",
   "name": "python3"
  },
  "language_info": {
   "codemirror_mode": {
    "name": "ipython",
    "version": 3
   },
   "file_extension": ".py",
   "mimetype": "text/x-python",
   "name": "python",
   "nbconvert_exporter": "python",
   "pygments_lexer": "ipython3",
   "version": "3.8.12"
  }
 },
 "nbformat": 4,
 "nbformat_minor": 5
}
