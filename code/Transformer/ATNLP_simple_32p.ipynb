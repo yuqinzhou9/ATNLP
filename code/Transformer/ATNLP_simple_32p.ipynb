{
  "cells": [
    {
      "cell_type": "code",
      "execution_count": null,
      "metadata": {
        "colab": {
          "base_uri": "https://localhost:8080/"
        },
        "id": "A59VaMDItyIj",
        "outputId": "15652d64-2a64-4963-baea-feed52d90127"
      },
      "outputs": [
        {
          "name": "stdout",
          "output_type": "stream",
          "text": [
            "Mounted at /content/drive\n",
            "/content/drive/MyDrive/ATNLP\n"
          ]
        }
      ],
      "source": [
        "from google.colab import drive\n",
        "drive.mount('/content/drive')\n",
        "%cd /content/drive/MyDrive/ATNLP/"
      ]
    },
    {
      "cell_type": "code",
      "execution_count": null,
      "metadata": {
        "colab": {
          "base_uri": "https://localhost:8080/"
        },
        "id": "BEAuiSZv8Wjs",
        "outputId": "9b4994c6-bf28-48eb-e640-f55e2039168e"
      },
      "outputs": [
        {
          "name": "stdout",
          "output_type": "stream",
          "text": [
            "Looking in indexes: https://pypi.org/simple, https://us-python.pkg.dev/colab-wheels/public/simple/\n",
            "Collecting wandb\n",
            "  Downloading wandb-0.13.7-py2.py3-none-any.whl (1.9 MB)\n",
            "\u001b[K     |████████████████████████████████| 1.9 MB 13.1 MB/s \n",
            "\u001b[?25hCollecting GitPython>=1.0.0\n",
            "  Downloading GitPython-3.1.30-py3-none-any.whl (184 kB)\n",
            "\u001b[K     |████████████████████████████████| 184 kB 69.7 MB/s \n",
            "\u001b[?25hRequirement already satisfied: requests<3,>=2.0.0 in /usr/local/lib/python3.8/dist-packages (from wandb) (2.23.0)\n",
            "Collecting docker-pycreds>=0.4.0\n",
            "  Downloading docker_pycreds-0.4.0-py2.py3-none-any.whl (9.0 kB)\n",
            "Collecting sentry-sdk>=1.0.0\n",
            "  Downloading sentry_sdk-1.12.1-py2.py3-none-any.whl (174 kB)\n",
            "\u001b[K     |████████████████████████████████| 174 kB 51.9 MB/s \n",
            "\u001b[?25hRequirement already satisfied: PyYAML in /usr/local/lib/python3.8/dist-packages (from wandb) (6.0)\n",
            "Collecting pathtools\n",
            "  Downloading pathtools-0.1.2.tar.gz (11 kB)\n",
            "Requirement already satisfied: Click!=8.0.0,>=7.0 in /usr/local/lib/python3.8/dist-packages (from wandb) (7.1.2)\n",
            "Requirement already satisfied: promise<3,>=2.0 in /usr/local/lib/python3.8/dist-packages (from wandb) (2.3)\n",
            "Collecting setproctitle\n",
            "  Downloading setproctitle-1.3.2-cp38-cp38-manylinux_2_5_x86_64.manylinux1_x86_64.manylinux_2_17_x86_64.manylinux2014_x86_64.whl (31 kB)\n",
            "Requirement already satisfied: setuptools in /usr/local/lib/python3.8/dist-packages (from wandb) (57.4.0)\n",
            "Collecting shortuuid>=0.5.0\n",
            "  Downloading shortuuid-1.0.11-py3-none-any.whl (10 kB)\n",
            "Requirement already satisfied: psutil>=5.0.0 in /usr/local/lib/python3.8/dist-packages (from wandb) (5.4.8)\n",
            "Requirement already satisfied: protobuf!=4.21.0,<5,>=3.12.0 in /usr/local/lib/python3.8/dist-packages (from wandb) (3.19.6)\n",
            "Requirement already satisfied: six>=1.4.0 in /usr/local/lib/python3.8/dist-packages (from docker-pycreds>=0.4.0->wandb) (1.15.0)\n",
            "Collecting gitdb<5,>=4.0.1\n",
            "  Downloading gitdb-4.0.10-py3-none-any.whl (62 kB)\n",
            "\u001b[K     |████████████████████████████████| 62 kB 1.3 MB/s \n",
            "\u001b[?25hCollecting smmap<6,>=3.0.1\n",
            "  Downloading smmap-5.0.0-py3-none-any.whl (24 kB)\n",
            "Requirement already satisfied: chardet<4,>=3.0.2 in /usr/local/lib/python3.8/dist-packages (from requests<3,>=2.0.0->wandb) (3.0.4)\n",
            "Requirement already satisfied: certifi>=2017.4.17 in /usr/local/lib/python3.8/dist-packages (from requests<3,>=2.0.0->wandb) (2022.12.7)\n",
            "Requirement already satisfied: idna<3,>=2.5 in /usr/local/lib/python3.8/dist-packages (from requests<3,>=2.0.0->wandb) (2.10)\n",
            "Requirement already satisfied: urllib3!=1.25.0,!=1.25.1,<1.26,>=1.21.1 in /usr/local/lib/python3.8/dist-packages (from requests<3,>=2.0.0->wandb) (1.24.3)\n",
            "Collecting sentry-sdk>=1.0.0\n",
            "  Downloading sentry_sdk-1.12.0-py2.py3-none-any.whl (173 kB)\n",
            "\u001b[K     |████████████████████████████████| 173 kB 86.9 MB/s \n",
            "\u001b[?25h  Downloading sentry_sdk-1.11.1-py2.py3-none-any.whl (168 kB)\n",
            "\u001b[K     |████████████████████████████████| 168 kB 83.5 MB/s \n",
            "\u001b[?25h  Downloading sentry_sdk-1.11.0-py2.py3-none-any.whl (168 kB)\n",
            "\u001b[K     |████████████████████████████████| 168 kB 69.2 MB/s \n",
            "\u001b[?25h  Downloading sentry_sdk-1.10.1-py2.py3-none-any.whl (166 kB)\n",
            "\u001b[K     |████████████████████████████████| 166 kB 65.9 MB/s \n",
            "\u001b[?25h  Downloading sentry_sdk-1.10.0-py2.py3-none-any.whl (166 kB)\n",
            "\u001b[K     |████████████████████████████████| 166 kB 63.1 MB/s \n",
            "\u001b[?25h  Downloading sentry_sdk-1.9.10-py2.py3-none-any.whl (162 kB)\n",
            "\u001b[K     |████████████████████████████████| 162 kB 64.2 MB/s \n",
            "\u001b[?25h  Downloading sentry_sdk-1.9.9-py2.py3-none-any.whl (162 kB)\n",
            "\u001b[K     |████████████████████████████████| 162 kB 72.7 MB/s \n",
            "\u001b[?25h  Downloading sentry_sdk-1.9.8-py2.py3-none-any.whl (158 kB)\n",
            "\u001b[K     |████████████████████████████████| 158 kB 53.9 MB/s \n",
            "\u001b[?25h  Downloading sentry_sdk-1.9.7-py2.py3-none-any.whl (157 kB)\n",
            "\u001b[K     |████████████████████████████████| 157 kB 78.9 MB/s \n",
            "\u001b[?25h  Downloading sentry_sdk-1.9.6-py2.py3-none-any.whl (157 kB)\n",
            "\u001b[K     |████████████████████████████████| 157 kB 65.1 MB/s \n",
            "\u001b[?25h  Downloading sentry_sdk-1.9.5-py2.py3-none-any.whl (157 kB)\n",
            "\u001b[K     |████████████████████████████████| 157 kB 66.7 MB/s \n",
            "\u001b[?25h  Downloading sentry_sdk-1.9.4-py2.py3-none-any.whl (157 kB)\n",
            "\u001b[K     |████████████████████████████████| 157 kB 64.7 MB/s \n",
            "\u001b[?25h  Downloading sentry_sdk-1.9.3-py2.py3-none-any.whl (157 kB)\n",
            "\u001b[K     |████████████████████████████████| 157 kB 68.2 MB/s \n",
            "\u001b[?25h  Downloading sentry_sdk-1.9.2-py2.py3-none-any.whl (157 kB)\n",
            "\u001b[K     |████████████████████████████████| 157 kB 69.0 MB/s \n",
            "\u001b[?25h  Downloading sentry_sdk-1.9.1-py2.py3-none-any.whl (157 kB)\n",
            "\u001b[K     |████████████████████████████████| 157 kB 68.4 MB/s \n",
            "\u001b[?25h  Downloading sentry_sdk-1.9.0-py2.py3-none-any.whl (156 kB)\n",
            "\u001b[K     |████████████████████████████████| 156 kB 70.9 MB/s \n",
            "\u001b[?25hBuilding wheels for collected packages: pathtools\n",
            "  Building wheel for pathtools (setup.py) ... \u001b[?25l\u001b[?25hdone\n",
            "  Created wheel for pathtools: filename=pathtools-0.1.2-py3-none-any.whl size=8806 sha256=1dfaf059156677709464c1da16d64a5e451dbe0fd4982b3c962c36e94e692138\n",
            "  Stored in directory: /root/.cache/pip/wheels/4c/8e/7e/72fbc243e1aeecae64a96875432e70d4e92f3d2d18123be004\n",
            "Successfully built pathtools\n",
            "Installing collected packages: smmap, gitdb, shortuuid, setproctitle, sentry-sdk, pathtools, GitPython, docker-pycreds, wandb\n",
            "Successfully installed GitPython-3.1.30 docker-pycreds-0.4.0 gitdb-4.0.10 pathtools-0.1.2 sentry-sdk-1.9.0 setproctitle-1.3.2 shortuuid-1.0.11 smmap-5.0.0 wandb-0.13.7\n"
          ]
        }
      ],
      "source": [
        "!pip install wandb"
      ]
    },
    {
      "cell_type": "code",
      "execution_count": null,
      "metadata": {
        "colab": {
          "base_uri": "https://localhost:8080/"
        },
        "id": "7wUkYc1M78gw",
        "outputId": "22173c38-e12f-43cf-c403-440c901e8e68"
      },
      "outputs": [
        {
          "name": "stdout",
          "output_type": "stream",
          "text": [
            "/content/drive/MyDrive/ATNLP/transformer_scan\n"
          ]
        }
      ],
      "source": [
        "%cd transformer_scan/"
      ]
    },
    {
      "cell_type": "code",
      "execution_count": null,
      "metadata": {
        "id": "di0qkyIQ7txD"
      },
      "outputs": [],
      "source": [
        "import os\n",
        "import json\n",
        "import numpy as np\n",
        "import random\n",
        "from collections import Counter, defaultdict\n",
        "from tqdm import tqdm\n",
        "import time\n",
        "import math\n",
        "\n",
        "import matplotlib.pyplot as plt\n",
        "import matplotlib.ticker as ticker\n",
        "import pandas as pd\n",
        "plt.style.use('seaborn-whitegrid')\n",
        "plt.rcParams['figure.dpi'] = 300\n",
        "\n",
        "\n",
        "\n",
        "import torch\n",
        "import torch.nn as nn\n",
        "import torch.optim as optim\n",
        "from models.transformer_new import *"
      ]
    },
    {
      "cell_type": "code",
      "execution_count": null,
      "metadata": {
        "id": "jCiKC2Cf743g"
      },
      "outputs": [],
      "source": [
        "device = torch.device('cuda' if torch.cuda.is_available() else 'cpu')"
      ]
    },
    {
      "cell_type": "code",
      "execution_count": null,
      "metadata": {
        "colab": {
          "base_uri": "https://localhost:8080/",
          "height": 105
        },
        "id": "XpC1GEZo8QPK",
        "outputId": "828b95a1-006f-42b8-80dd-7afea3e4a01c"
      },
      "outputs": [
        {
          "name": "stderr",
          "output_type": "stream",
          "text": [
            "ERROR:wandb.jupyter:Failed to detect the name of this notebook, you can set it manually with the WANDB_NOTEBOOK_NAME environment variable to enable code saving.\n"
          ]
        },
        {
          "data": {
            "application/javascript": [
              "\n",
              "        window._wandbApiKey = new Promise((resolve, reject) => {\n",
              "            function loadScript(url) {\n",
              "            return new Promise(function(resolve, reject) {\n",
              "                let newScript = document.createElement(\"script\");\n",
              "                newScript.onerror = reject;\n",
              "                newScript.onload = resolve;\n",
              "                document.body.appendChild(newScript);\n",
              "                newScript.src = url;\n",
              "            });\n",
              "            }\n",
              "            loadScript(\"https://cdn.jsdelivr.net/npm/postmate/build/postmate.min.js\").then(() => {\n",
              "            const iframe = document.createElement('iframe')\n",
              "            iframe.style.cssText = \"width:0;height:0;border:none\"\n",
              "            document.body.appendChild(iframe)\n",
              "            const handshake = new Postmate({\n",
              "                container: iframe,\n",
              "                url: 'https://wandb.ai/authorize'\n",
              "            });\n",
              "            const timeout = setTimeout(() => reject(\"Couldn't auto authenticate\"), 5000)\n",
              "            handshake.then(function(child) {\n",
              "                child.on('authorize', data => {\n",
              "                    clearTimeout(timeout)\n",
              "                    resolve(data)\n",
              "                });\n",
              "            });\n",
              "            })\n",
              "        });\n",
              "    "
            ],
            "text/plain": [
              "<IPython.core.display.Javascript object>"
            ]
          },
          "metadata": {},
          "output_type": "display_data"
        },
        {
          "name": "stderr",
          "output_type": "stream",
          "text": [
            "\u001b[34m\u001b[1mwandb\u001b[0m: Appending key for api.wandb.ai to your netrc file: /root/.netrc\n"
          ]
        },
        {
          "data": {
            "text/plain": [
              "True"
            ]
          },
          "execution_count": 6,
          "metadata": {},
          "output_type": "execute_result"
        }
      ],
      "source": [
        "import wandb\n",
        "wandb.login()"
      ]
    },
    {
      "cell_type": "code",
      "execution_count": null,
      "metadata": {
        "id": "Lmh2WQYw8huQ"
      },
      "outputs": [],
      "source": [
        "SOS_token = 0\n",
        "EOS_token = 1\n",
        "pad_idx = 2\n",
        "\n",
        "class Format:\n",
        "    def __init__(self, name):\n",
        "        self.name = name\n",
        "        self.word2index = {}\n",
        "        self.word2count = {}\n",
        "        self.index2word = {SOS_token: \"SOS\", EOS_token: \"EOS\", pad_idx: \"pad\"}\n",
        "        self.n_words = 3  \n",
        "\n",
        "    def addSentence(self, sentence):\n",
        "        for word in sentence.split(' '):\n",
        "            self.addWord(word)\n",
        "\n",
        "    def addWord(self, word):\n",
        "        if word not in self.word2index:\n",
        "            self.word2index[word] = self.n_words\n",
        "            self.index2word[self.n_words] = word\n",
        "            self.n_words += 1\n",
        "            self.word2count[word] = 1\n",
        "        else:\n",
        "            self.word2count[word] += 1\n",
        "\n",
        "\n",
        "def readFile(filename):\n",
        "    print(\"Reading lines...\")\n",
        "\n",
        "    # Read the file and split into lines\n",
        "    lines = open(filename, encoding='utf-8').read().strip().split('\\n')\n",
        "\n",
        "    # exclude \"IN: \"\n",
        "    pairs = [s[4:].split(' OUT: ') for s in lines]\n",
        "\n",
        "    input_lang = Format(\"input\")\n",
        "    output_lang = Format(\"output\")\n",
        "\n",
        "    return input_lang, output_lang, pairs\n",
        "  \n",
        "def prepareData(filename):\n",
        "    input_lang, output_lang, pairs = readFile(filename)\n",
        "    print(\"Read %s sentence pairs\" % len(pairs))\n",
        "    print(\"Counting words...\")\n",
        "    for pair in pairs:\n",
        "        input_lang.addSentence(pair[0])\n",
        "        output_lang.addSentence(pair[1])\n",
        "    print(\"Counted words:\")\n",
        "    print(input_lang.name, input_lang.n_words)\n",
        "    print(output_lang.name, output_lang.n_words)\n",
        "    return input_lang, output_lang, pairs\n",
        "\n",
        "\n",
        "# obtain word indices in a sentence\n",
        "def indexesFromSentence(lang, sentence):\n",
        "    return [lang.word2index[word] for word in sentence.split(' ')]\n",
        "\n",
        "\n",
        "# transform to tensor format and add a special token\n",
        "def tensorFromSentence_input(lang, sentence):\n",
        "    indexes = indexesFromSentence(lang, sentence)\n",
        "    # indexes.insert(0, SOS_token)\n",
        "    # indexes.append(EOS_token)\n",
        "    return torch.tensor(indexes, dtype=torch.long, device=device).view(-1, 1)\n",
        "\n",
        "def tensorFromSentence_output(lang, sentence):\n",
        "    indexes = indexesFromSentence(lang, sentence)\n",
        "    indexes.insert(0, SOS_token)\n",
        "    indexes.append(EOS_token)\n",
        "    return torch.tensor(indexes, dtype=torch.long, device=device).view(-1, 1)\n",
        "\n",
        "# for input and target (one-hot vectors)\n",
        "def tensorsFromPair(pair):\n",
        "    input_tensor = tensorFromSentence_input(input_lang, pair[0])\n",
        "    target_tensor = tensorFromSentence_output(output_lang, pair[1])\n",
        "    return (input_tensor, target_tensor)\n",
        "\n",
        "\n",
        "def calculate_mean_std(acc_dict):\n",
        "    mean = []\n",
        "    error = []\n",
        "    keys = sorted(acc_dict[0])\n",
        "    num_runs = len(acc_dict)\n",
        "    \n",
        "    for key in keys:\n",
        "        t = []\n",
        "        for d in acc_dict:\n",
        "            t.append(d[key])\n",
        "        mean.append(np.mean(t))\n",
        "        error.append(np.std(t) / np.sqrt(num_runs))\n",
        "    return np.array(mean), np.array(error), keys\n",
        "\n",
        "\n",
        "def epoch_time(start_time, end_time):\n",
        "    elapsed_time = end_time - start_time\n",
        "    elapsed_mins = int(elapsed_time / 60)\n",
        "    elapsed_secs = int(elapsed_time - (elapsed_mins * 60))\n",
        "    return elapsed_mins, elapsed_secs"
      ]
    },
    {
      "cell_type": "code",
      "execution_count": null,
      "metadata": {
        "colab": {
          "base_uri": "https://localhost:8080/"
        },
        "id": "yqLI8ct78RvA",
        "outputId": "e8af13c3-c3f6-4559-9e9d-cf446ef8c41b"
      },
      "outputs": [
        {
          "name": "stdout",
          "output_type": "stream",
          "text": [
            "Reading lines...\n",
            "Read 6691 sentence pairs\n",
            "Counting words...\n",
            "Counted words:\n",
            "input 16\n",
            "output 9\n",
            "Reading lines...\n",
            "Read 14219 sentence pairs\n",
            "Counting words...\n",
            "Counted words:\n",
            "input 16\n",
            "output 9\n",
            "['look opposite left thrice and jump left', 'I_TURN_LEFT I_TURN_LEFT I_LOOK I_TURN_LEFT I_TURN_LEFT I_LOOK I_TURN_LEFT I_TURN_LEFT I_LOOK I_TURN_LEFT I_JUMP']\n",
            "6691 <class 'list'>\n"
          ]
        }
      ],
      "source": [
        "# input_lang, output_lang, pairs = prepareData(\"./data/scan/simple_split/tasks_train_simple.txt\")\n",
        "# input_lang_test, output_lang_test, pairs_test = prepareData(\"./data/scan/simple_split/tasks_test_simple.txt\")\n",
        "\n",
        "input_lang, output_lang, pairs = prepareData(\"./data/scan/simple_split/size_variations/tasks_train_simple_p32.txt\")\n",
        "input_lang_test, output_lang_test, pairs_test = prepareData(\"./data/scan/simple_split/size_variations/tasks_test_simple_p32.txt\")\n",
        "\n",
        "\n",
        "# input_lang, output_lang, pairs = prepareData(\"/Users/zhouyuqin/Desktop/ATNLP/SCAN/add_prim_split/tasks_train_addprim_jump.txt\")\n",
        "# input_lang_test, output_lang_test, pairs_test = prepareData(\"/Users/zhouyuqin/Desktop/ATNLP/SCAN/add_prim_split/tasks_test_addprim_jump.txt\")\n",
        "\n",
        "\n",
        "\n",
        "# input_lang, output_lang, pairs = prepareData(\"/Users/zhouyuqin/Desktop/ATNLP/SCAN/length_split/tasks_train_length.txt\")\n",
        "# input_lang_test, output_lang_test, pairs_test = prepareData(\"/Users/zhouyuqin/Desktop/ATNLP/SCAN/length_split/tasks_test_length.txt\")\n",
        "\n",
        "\n",
        "\n",
        "print(random.choice(pairs))\n",
        "print(len(pairs), type(pairs))"
      ]
    },
    {
      "cell_type": "code",
      "execution_count": null,
      "metadata": {
        "id": "VhfNgYTB9p2a"
      },
      "outputs": [],
      "source": [
        "# n_iters = 100000\n",
        "# training_pairs = [tensorsFromPair(random.choice(pairs)) for i in range(n_iters)]\n",
        "training_pairs = [tensorsFromPair(pair) for pair in pairs]\n",
        "test_pairs = [tensorsFromPair(pair) for pair in pairs_test]"
      ]
    },
    {
      "cell_type": "code",
      "execution_count": null,
      "metadata": {
        "colab": {
          "base_uri": "https://localhost:8080/"
        },
        "id": "14yjP9aL9yd9",
        "outputId": "4c47f058-fd50-4589-da18-d918a16896f5"
      },
      "outputs": [
        {
          "data": {
            "text/plain": [
              "6691"
            ]
          },
          "execution_count": 10,
          "metadata": {},
          "output_type": "execute_result"
        }
      ],
      "source": [
        "len(training_pairs)"
      ]
    },
    {
      "cell_type": "code",
      "execution_count": null,
      "metadata": {
        "id": "vWKchfV-8prw"
      },
      "outputs": [],
      "source": [
        "class Lang:\n",
        "  ''' \n",
        "   ### Training and Data ###\n",
        "    num_runs: Number of runs to do.\n",
        "    num_epochs: Number of training epochs\n",
        "    \n",
        "    ### Models ### \n",
        "    d_model: Dimension of inputs/outputs in transformer\n",
        "    nhead: Number of heads in transformer multihead attention\n",
        "    num_encoder_layers: Number of layers in transformer encoder\n",
        "    num_decoder_layers: Number of layers in transformer decoder\n",
        "    dim_feedforward: Dimension of feedforward layers in transformer\n",
        "    dropout: Dropout rate\n",
        "              \n",
        "    ### Optimization ### \n",
        "    learning_rate: Fixed learning rate for Adam optimizer\n",
        "\n",
        "\n",
        "    ### Output options ###\n",
        "    results_dir: Results subdirectory to save results\n",
        "    out_data_file: Name of output data file with training loss data\n",
        "    checkpoint_path: Path to output saved weights.\n",
        "    checkpoint_every: Epochs before evaluating model and saving weights\n",
        "    record_loss_every: iters before printing and recording loss\n",
        "  '''\n",
        "\n",
        "  def __init__(self, num_runs = 1, num_epochs = 30, d_model = 32, nhead = 8, num_decoder_layers = 2, \n",
        "               num_encoder_layers = 2,  d_feedforward = 256, learning_rate = 0.001,\n",
        "               dropout = 0.1, checkpoint_every = 1, record_loss_every = 2000, clip = 5, teacher_forcing_ratio = 0):\n",
        "    \n",
        "    self.num_runs = num_runs\n",
        "    self.num_epochs = num_epochs\n",
        "    self.d_model = d_model\n",
        "    self.nhead = nhead\n",
        "    self.num_encoder_layers = num_encoder_layers\n",
        "    self.num_decoder_layers = num_decoder_layers\n",
        "    self.d_feedforward = d_feedforward\n",
        "    self.learning_rate = learning_rate\n",
        "    self.dropout = dropout\n",
        "    self.checkpoint_every = checkpoint_every\n",
        "    self.record_loss_every = record_loss_every\n",
        "    self.clip = clip\n",
        "    self.teacher_forcing_ratio = teacher_forcing_ratio"
      ]
    },
    {
      "cell_type": "code",
      "execution_count": null,
      "metadata": {
        "id": "bbCsA7_C9ELR"
      },
      "outputs": [],
      "source": [
        "args = Lang(d_feedforward = 512, nhead= 6)"
      ]
    },
    {
      "cell_type": "code",
      "execution_count": null,
      "metadata": {
        "id": "yA4ae1Pe9F4L"
      },
      "outputs": [],
      "source": [
        "def train(name, model, args):              \n",
        "    model.train()\n",
        "    optimizer = torch.optim.Adam(model.parameters(), lr = args.learning_rate)\n",
        "    criterion = nn.CrossEntropyLoss()\n",
        "\n",
        "    for epoch in range(args.num_epochs):\n",
        "        start_time = time.time()\n",
        "        epoch_loss = 0\n",
        "        print_loss_total = 0 \n",
        "\n",
        "        for iter, batch in enumerate(training_pairs):\n",
        "            loss = 0\n",
        "            optimizer.zero_grad()\n",
        "\n",
        "            ### Encoder ###\n",
        "            src = batch[0].T\n",
        "            src_mask = model.make_src_mask(src)\n",
        "            enc_src = model.encoder(src, src_mask)\n",
        "            \n",
        "            ### Decoder ### \n",
        "            trg = batch[1].T\n",
        "            trg_in = trg[:,:-1] ##[<SOS>, y_1, ..., y_2] \n",
        "            trg_out = trg[:,1:] ##[y_1,..., y_2, <EOS>]\n",
        "            \n",
        "            use_teacher_forcing = True if random.random() < args.teacher_forcing_ratio else False\n",
        "            \n",
        "            if not use_teacher_forcing:\n",
        "                trg_mask = model.make_trg_mask(trg_in)\n",
        "                output, _ = model.decoder(trg_in, enc_src, trg_mask, src_mask)       \n",
        "                loss = criterion(output[0], trg_out.view(-1))    \n",
        "                trg_indexes =  output[0].argmax(1)\n",
        "            \n",
        "            else:\n",
        "                trg_indexes = [SOS_token]\n",
        "                for i in range(trg_in.shape[1]):\n",
        "                    trg_tensor = torch.LongTensor(trg_indexes).unsqueeze(0).to(device)\n",
        "                    trg_mask = model.make_trg_mask(trg_tensor)\n",
        "                    output, _ = model.decoder(trg_tensor, enc_src, trg_mask, src_mask)\n",
        "                    # only consider the prediction at time t \n",
        "                    output = output[0][i]\n",
        "                    \n",
        "                    ### gready search\n",
        "                    pred_token = output.argmax(0).item()\n",
        "                    trg_indexes.append(pred_token)\n",
        "                    \n",
        "                    ## calculate loss\n",
        "                    loss += criterion(output, trg_out[0][i])\n",
        "\n",
        "                    # break if the new term is <EOS> \n",
        "                    if pred_token == EOS_token:\n",
        "                        break\n",
        "\n",
        "                trg_indexes = trg_indexes[1:]\n",
        "                loss = loss / trg_in.shape[1]\n",
        "\n",
        "            \n",
        "            loss.backward()\n",
        "            wandb.log({\"train/loss\": loss.data.item(), \"train/iter\": iter})\n",
        "            torch.nn.utils.clip_grad_norm_(model.parameters(), args.clip)\n",
        "            optimizer.step()\n",
        "            \n",
        "            # Record loss\n",
        "            print_loss_total += loss.data.item()\n",
        "            epoch_loss += loss.data.item()\n",
        "            if (iter + 1) % args.record_loss_every == 0:\n",
        "                print_loss_avg = print_loss_total / args.record_loss_every\n",
        "                print(f'Epoch: {epoch} | Iter: {iter} | Loss: {print_loss_avg:.3f}') \n",
        "                print_loss_total = 0 \n",
        "       \n",
        "        torch.save(model.state_dict(), name)\n",
        "        ### Recode loss\n",
        "        end_time = time.time()\n",
        "        epoch_mins, epoch_secs = epoch_time(start_time, end_time)\n",
        "        epoch_loss_avg = epoch_loss / len(training_pairs)\n",
        "\n",
        "        wandb.log({\"train/epoch\": epoch, \"train/epoch_loss\": epoch_loss_avg})\n",
        "        print(f'Epoch: {epoch+1:02} | Time: {epoch_mins}m {epoch_secs}s')\n",
        "        print(f'\\tTrain Loss: {epoch_loss_avg:.3f}')\n"
      ]
    },
    {
      "cell_type": "code",
      "execution_count": null,
      "metadata": {
        "id": "Up8sDKIyUKs6"
      },
      "outputs": [],
      "source": []
    },
    {
      "cell_type": "code",
      "execution_count": null,
      "metadata": {
        "id": "sTCxx_6F9cSD"
      },
      "outputs": [],
      "source": [
        "# train(args)"
      ]
    },
    {
      "cell_type": "code",
      "execution_count": null,
      "metadata": {
        "id": "jH4sBqdu_eBi"
      },
      "outputs": [],
      "source": [
        "# def test_teacher(data, model):\n",
        "#     model.eval()\n",
        "#     with torch.no_grad():\n",
        "#         all_correct_trials = [] # list of booleans indicating whether correct\n",
        "        \n",
        "#         for batch in data:\n",
        "#             src = batch[0].T\n",
        "#             trg = batch[1].T\n",
        "#             out, _ = model(src, trg[:,:-1])\n",
        "\n",
        "#             preds = torch.argmax(out, dim = 2)\n",
        "#             correct_pred = preds == trg[:,1:]\n",
        "\n",
        "#             correct_pred = correct_pred.cpu().numpy()\n",
        "#             correct = correct_pred.all(0).tolist()\n",
        "#             all_correct_trials += correct\n",
        "\n",
        "#     accuracy = np.mean(all_correct_trials)\n",
        "#     model.train()\n",
        "#     return accuracy\n",
        "\n",
        "# test_teacher(test_pairs, model)"
      ]
    },
    {
      "cell_type": "code",
      "execution_count": null,
      "metadata": {
        "id": "96Uur2yv95fK"
      },
      "outputs": [],
      "source": []
    },
    {
      "cell_type": "code",
      "execution_count": null,
      "metadata": {
        "id": "KuF1ahm0Bz4V"
      },
      "outputs": [],
      "source": [
        "def translate_sentence(batch, model, max_len = 50):\n",
        "    model.eval()\n",
        "    src = batch[0].T\n",
        "    src_mask = model.make_src_mask(src)\n",
        "    with torch.no_grad():\n",
        "        enc_src = model.encoder(src, src_mask)\n",
        "\n",
        "    #\n",
        "    trg_indexes = [SOS_token]\n",
        "    for i in range(max_len):\n",
        "        trg_tensor = torch.LongTensor(trg_indexes).unsqueeze(0).to(device)\n",
        "        trg_mask = model.make_trg_mask(trg_tensor)\n",
        "        with torch.no_grad():\n",
        "            output, attention = model.decoder(trg_tensor, enc_src, trg_mask, src_mask)\n",
        "        \n",
        "        output = output[0][i]\n",
        "        pred_token = output.argmax(0).item()\n",
        "        trg_indexes.append(pred_token)\n",
        "        #\n",
        "        if pred_token == EOS_token:\n",
        "            break\n",
        "    return trg_indexes[1:], attention\n",
        "\n",
        "def test_accuracy(data, model):\n",
        "    all_correct_trials = 0\n",
        "    for i, batch in enumerate(data):\n",
        "      index, _  = translate_sentence(batch, model)\n",
        "\n",
        "      trg = batch[1].T\n",
        "      trg_out = trg[:,1:] ##[y_1,..., y_2, <EOS>]\n",
        "      correct = trg_out[0].tolist() == index\n",
        "      all_correct_trials += correct\n",
        "        \n",
        "      if (i+1)  % 10000 == 0:\n",
        "          print(i, all_correct_trials/ i)\n",
        "            \n",
        "    return all_correct_trials / len(data)\n"
      ]
    },
    {
      "cell_type": "code",
      "execution_count": null,
      "metadata": {
        "id": "1HT5XbLDBz67"
      },
      "outputs": [],
      "source": [
        "# test_accuracy(test_pairs, model)"
      ]
    },
    {
      "cell_type": "code",
      "execution_count": null,
      "metadata": {
        "id": "ry7g59SVCfg7"
      },
      "outputs": [],
      "source": []
    },
    {
      "cell_type": "code",
      "execution_count": null,
      "metadata": {
        "colab": {
          "base_uri": "https://localhost:8080/",
          "height": 1000,
          "referenced_widgets": [
            "37c89d3e1d8043d2b7823043aeabb3fd",
            "f654a1c26eb34cdba2ef026cff1d5eb3",
            "dcb61786a0014ae6adb4d6ae34d88ce0",
            "6a99a06ca7174a198737a8f48e258464",
            "86bbb30692144891987510bc4d015865",
            "6b1021c050c64171ac32337bc3e12e39",
            "ced624911e2c485ea8980ad6cc78d7ec",
            "3797334046bd4eb792dc1758a8c1ecad",
            "193cd21515774ba6a67d5c28add3aa35",
            "4251e34bb44040d690b4a98b50f1be74",
            "e3f2b8a93948455eb6d159c952e3211e",
            "8d9bc46597ff4eaea1a8fc1394320693",
            "4dc60c295326461c9ed983247e46c751",
            "db179aac4f9f4d36b9a19e446f6ff6a5",
            "eb8393196a654e039abcb823ea69755e",
            "4a581008ae3e4a40b4bd3037ed9723ab",
            "ffe8923b0eec4a13b569943762f472d5",
            "47df60aee22e432bb2a1bc8abf5c3f40",
            "e294945784c44c0e8638afb54ea816b5",
            "e7fec74e942c4b23ad57d01fc9e45d4e",
            "068185443ccc41a598c24d51236ca640",
            "d3d185e41314414e8891b45e0ad40d5d",
            "1c4aa58b0dc146dfb619876751e1e322",
            "288f235e7baf40db94d018405deba2a2",
            "6aacb93296ac4ab98cf2a63fe2c58f6c",
            "739a7d7dc7674bc1a134d7d75aeceabe",
            "5cca013bb66c4b059220fec3c5583a47",
            "cd9cf5b3e54b4842801ab05f1fa98d81",
            "9357eb20f35747b091f1eaee29bc4e71",
            "7f9626158fb844bc855d491b757777a6",
            "b344fc9b85b8426a9303b4df7a2405c1",
            "35530dce2f9841f79f3e7710c6319fb3",
            "3ab58e80d75447bb93e0e88b1e683bb6"
          ]
        },
        "id": "6GS1BqNyBmpy",
        "outputId": "e851303a-a05d-4cbe-c87d-499d4136fd6d"
      },
      "outputs": [
        {
          "metadata": {
            "tags": null
          },
          "name": "stderr",
          "output_type": "stream",
          "text": [
            "\u001b[34m\u001b[1mwandb\u001b[0m: Currently logged in as: \u001b[33myuqinzhou\u001b[0m. Use \u001b[1m`wandb login --relogin`\u001b[0m to force relogin\n"
          ]
        },
        {
          "data": {
            "text/html": [
              "Tracking run with wandb version 0.13.7"
            ],
            "text/plain": [
              "<IPython.core.display.HTML object>"
            ]
          },
          "metadata": {},
          "output_type": "display_data"
        },
        {
          "data": {
            "text/html": [
              "Run data is saved locally in <code>/content/drive/MyDrive/ATNLP/transformer_scan/wandb/run-20221229_102210-34gyhyrn</code>"
            ],
            "text/plain": [
              "<IPython.core.display.HTML object>"
            ]
          },
          "metadata": {},
          "output_type": "display_data"
        },
        {
          "data": {
            "text/html": [
              "Syncing run <strong><a href=\"https://wandb.ai/yuqinzhou/ATNLP/runs/34gyhyrn\" target=\"_blank\">exp_32p_0</a></strong> to <a href=\"https://wandb.ai/yuqinzhou/ATNLP\" target=\"_blank\">Weights & Biases</a> (<a href=\"https://wandb.me/run\" target=\"_blank\">docs</a>)<br/>"
            ],
            "text/plain": [
              "<IPython.core.display.HTML object>"
            ]
          },
          "metadata": {},
          "output_type": "display_data"
        },
        {
          "metadata": {
            "tags": null
          },
          "name": "stdout",
          "output_type": "stream",
          "text": [
            "Epoch: 0 | Iter: 1999 | Loss: 1.062\n",
            "Epoch: 0 | Iter: 3999 | Loss: 0.845\n",
            "Epoch: 0 | Iter: 5999 | Loss: 0.794\n",
            "Epoch: 01 | Time: 2m 30s\n",
            "\tTrain Loss: 0.887\n",
            "Epoch: 1 | Iter: 1999 | Loss: 0.740\n",
            "Epoch: 1 | Iter: 3999 | Loss: 0.717\n",
            "Epoch: 1 | Iter: 5999 | Loss: 0.700\n",
            "Epoch: 02 | Time: 2m 30s\n",
            "\tTrain Loss: 0.716\n",
            "Epoch: 2 | Iter: 1999 | Loss: 0.676\n",
            "Epoch: 2 | Iter: 3999 | Loss: 0.656\n",
            "Epoch: 2 | Iter: 5999 | Loss: 0.652\n",
            "Epoch: 03 | Time: 2m 26s\n",
            "\tTrain Loss: 0.660\n",
            "Epoch: 3 | Iter: 1999 | Loss: 0.636\n",
            "Epoch: 3 | Iter: 3999 | Loss: 0.627\n",
            "Epoch: 3 | Iter: 5999 | Loss: 0.633\n",
            "Epoch: 04 | Time: 2m 28s\n",
            "\tTrain Loss: 0.632\n",
            "Epoch: 4 | Iter: 1999 | Loss: 0.618\n",
            "Epoch: 4 | Iter: 3999 | Loss: 0.606\n",
            "Epoch: 4 | Iter: 5999 | Loss: 0.611\n",
            "Epoch: 05 | Time: 2m 29s\n",
            "\tTrain Loss: 0.611\n",
            "Epoch: 5 | Iter: 1999 | Loss: 0.593\n",
            "Epoch: 5 | Iter: 3999 | Loss: 0.585\n",
            "Epoch: 5 | Iter: 5999 | Loss: 0.580\n",
            "Epoch: 06 | Time: 2m 26s\n",
            "\tTrain Loss: 0.585\n",
            "Epoch: 6 | Iter: 1999 | Loss: 0.581\n",
            "Epoch: 6 | Iter: 3999 | Loss: 0.560\n",
            "Epoch: 6 | Iter: 5999 | Loss: 0.573\n",
            "Epoch: 07 | Time: 2m 29s\n",
            "\tTrain Loss: 0.570\n",
            "Epoch: 7 | Iter: 1999 | Loss: 0.556\n",
            "Epoch: 7 | Iter: 3999 | Loss: 0.548\n",
            "Epoch: 7 | Iter: 5999 | Loss: 0.555\n",
            "Epoch: 08 | Time: 2m 31s\n",
            "\tTrain Loss: 0.552\n",
            "Epoch: 8 | Iter: 1999 | Loss: 0.534\n",
            "Epoch: 8 | Iter: 3999 | Loss: 0.543\n",
            "Epoch: 8 | Iter: 5999 | Loss: 0.536\n",
            "Epoch: 09 | Time: 2m 33s\n",
            "\tTrain Loss: 0.537\n",
            "Epoch: 9 | Iter: 1999 | Loss: 0.529\n",
            "Epoch: 9 | Iter: 3999 | Loss: 0.533\n",
            "Epoch: 9 | Iter: 5999 | Loss: 0.521\n",
            "Epoch: 10 | Time: 2m 30s\n",
            "\tTrain Loss: 0.527\n",
            "Epoch: 10 | Iter: 1999 | Loss: 0.522\n",
            "Epoch: 10 | Iter: 3999 | Loss: 0.521\n",
            "Epoch: 10 | Iter: 5999 | Loss: 0.511\n",
            "Epoch: 11 | Time: 2m 26s\n",
            "\tTrain Loss: 0.517\n",
            "Epoch: 11 | Iter: 1999 | Loss: 0.502\n",
            "Epoch: 11 | Iter: 3999 | Loss: 0.502\n",
            "Epoch: 11 | Iter: 5999 | Loss: 0.505\n",
            "Epoch: 12 | Time: 2m 31s\n",
            "\tTrain Loss: 0.502\n",
            "Epoch: 12 | Iter: 1999 | Loss: 0.498\n",
            "Epoch: 12 | Iter: 3999 | Loss: 0.499\n",
            "Epoch: 12 | Iter: 5999 | Loss: 0.495\n",
            "Epoch: 13 | Time: 2m 27s\n",
            "\tTrain Loss: 0.496\n",
            "Epoch: 13 | Iter: 1999 | Loss: 0.493\n",
            "Epoch: 13 | Iter: 3999 | Loss: 0.489\n",
            "Epoch: 13 | Iter: 5999 | Loss: 0.489\n",
            "Epoch: 14 | Time: 2m 30s\n",
            "\tTrain Loss: 0.490\n",
            "Epoch: 14 | Iter: 1999 | Loss: 0.482\n",
            "Epoch: 14 | Iter: 3999 | Loss: 0.477\n",
            "Epoch: 14 | Iter: 5999 | Loss: 0.477\n",
            "Epoch: 15 | Time: 2m 28s\n",
            "\tTrain Loss: 0.477\n",
            "Epoch: 15 | Iter: 1999 | Loss: 0.471\n",
            "Epoch: 15 | Iter: 3999 | Loss: 0.469\n",
            "Epoch: 15 | Iter: 5999 | Loss: 0.473\n",
            "Epoch: 16 | Time: 2m 36s\n",
            "\tTrain Loss: 0.470\n",
            "Epoch: 16 | Iter: 1999 | Loss: 0.468\n",
            "Epoch: 16 | Iter: 3999 | Loss: 0.459\n",
            "Epoch: 16 | Iter: 5999 | Loss: 0.469\n",
            "Epoch: 17 | Time: 2m 36s\n",
            "\tTrain Loss: 0.465\n",
            "Epoch: 17 | Iter: 1999 | Loss: 0.459\n",
            "Epoch: 17 | Iter: 3999 | Loss: 0.454\n",
            "Epoch: 17 | Iter: 5999 | Loss: 0.463\n",
            "Epoch: 18 | Time: 2m 36s\n",
            "\tTrain Loss: 0.459\n",
            "Epoch: 18 | Iter: 1999 | Loss: 0.459\n",
            "Epoch: 18 | Iter: 3999 | Loss: 0.453\n",
            "Epoch: 18 | Iter: 5999 | Loss: 0.453\n",
            "Epoch: 19 | Time: 2m 39s\n",
            "\tTrain Loss: 0.454\n",
            "Epoch: 19 | Iter: 1999 | Loss: 0.447\n",
            "Epoch: 19 | Iter: 3999 | Loss: 0.447\n",
            "Epoch: 19 | Iter: 5999 | Loss: 0.446\n",
            "Epoch: 20 | Time: 2m 36s\n",
            "\tTrain Loss: 0.445\n",
            "Epoch: 20 | Iter: 1999 | Loss: 0.447\n",
            "Epoch: 20 | Iter: 3999 | Loss: 0.441\n",
            "Epoch: 20 | Iter: 5999 | Loss: 0.440\n",
            "Epoch: 21 | Time: 2m 39s\n",
            "\tTrain Loss: 0.441\n",
            "Epoch: 21 | Iter: 1999 | Loss: 0.439\n",
            "Epoch: 21 | Iter: 3999 | Loss: 0.429\n",
            "Epoch: 21 | Iter: 5999 | Loss: 0.437\n",
            "Epoch: 22 | Time: 2m 38s\n",
            "\tTrain Loss: 0.435\n",
            "Epoch: 22 | Iter: 1999 | Loss: 0.437\n",
            "Epoch: 22 | Iter: 3999 | Loss: 0.432\n",
            "Epoch: 22 | Iter: 5999 | Loss: 0.436\n",
            "Epoch: 23 | Time: 2m 36s\n",
            "\tTrain Loss: 0.434\n",
            "Epoch: 23 | Iter: 1999 | Loss: 0.421\n",
            "Epoch: 23 | Iter: 3999 | Loss: 0.423\n",
            "Epoch: 23 | Iter: 5999 | Loss: 0.428\n",
            "Epoch: 24 | Time: 2m 40s\n",
            "\tTrain Loss: 0.424\n",
            "Epoch: 24 | Iter: 1999 | Loss: 0.418\n",
            "Epoch: 24 | Iter: 3999 | Loss: 0.423\n",
            "Epoch: 24 | Iter: 5999 | Loss: 0.416\n",
            "Epoch: 25 | Time: 2m 39s\n",
            "\tTrain Loss: 0.419\n",
            "Epoch: 25 | Iter: 1999 | Loss: 0.411\n",
            "Epoch: 25 | Iter: 3999 | Loss: 0.417\n",
            "Epoch: 25 | Iter: 5999 | Loss: 0.422\n",
            "Epoch: 26 | Time: 2m 41s\n",
            "\tTrain Loss: 0.416\n",
            "Epoch: 26 | Iter: 1999 | Loss: 0.410\n",
            "Epoch: 26 | Iter: 3999 | Loss: 0.411\n",
            "Epoch: 26 | Iter: 5999 | Loss: 0.414\n",
            "Epoch: 27 | Time: 2m 44s\n",
            "\tTrain Loss: 0.412\n",
            "Epoch: 27 | Iter: 1999 | Loss: 0.404\n",
            "Epoch: 27 | Iter: 3999 | Loss: 0.397\n",
            "Epoch: 27 | Iter: 5999 | Loss: 0.404\n",
            "Epoch: 28 | Time: 2m 41s\n",
            "\tTrain Loss: 0.401\n",
            "Epoch: 28 | Iter: 1999 | Loss: 0.396\n",
            "Epoch: 28 | Iter: 3999 | Loss: 0.390\n",
            "Epoch: 28 | Iter: 5999 | Loss: 0.395\n",
            "Epoch: 29 | Time: 2m 44s\n",
            "\tTrain Loss: 0.394\n",
            "Epoch: 29 | Iter: 1999 | Loss: 0.383\n",
            "Epoch: 29 | Iter: 3999 | Loss: 0.395\n",
            "Epoch: 29 | Iter: 5999 | Loss: 0.398\n",
            "Epoch: 30 | Time: 2m 40s\n",
            "\tTrain Loss: 0.393\n",
            "Testing:\n",
            "9999 0.11041104110411042\n"
          ]
        },
        {
          "data": {
            "text/html": [
              "Waiting for W&B process to finish... <strong style=\"color:green\">(success).</strong>"
            ],
            "text/plain": [
              "<IPython.core.display.HTML object>"
            ]
          },
          "metadata": {},
          "output_type": "display_data"
        },
        {
          "data": {
            "application/vnd.jupyter.widget-view+json": {
              "model_id": "37c89d3e1d8043d2b7823043aeabb3fd",
              "version_major": 2,
              "version_minor": 0
            },
            "text/plain": [
              "VBox(children=(Label(value='0.001 MB of 0.013 MB uploaded (0.000 MB deduped)\\r'), FloatProgress(value=0.043549…"
            ]
          },
          "metadata": {},
          "output_type": "display_data"
        },
        {
          "data": {
            "text/html": [
              "<style>\n",
              "    table.wandb td:nth-child(1) { padding: 0 10px; text-align: left ; width: auto;} td:nth-child(2) {text-align: left ; width: 100%}\n",
              "    .wandb-row { display: flex; flex-direction: row; flex-wrap: wrap; justify-content: flex-start; width: 100% }\n",
              "    .wandb-col { display: flex; flex-direction: column; flex-basis: 100%; flex: 1; padding: 10px; }\n",
              "    </style>\n",
              "<div class=\"wandb-row\"><div class=\"wandb-col\"><h3>Run history:</h3><br/><table class=\"wandb\"><tr><td>test/accuracy</td><td>▁</td></tr><tr><td>train/epoch</td><td>▁▁▁▂▂▂▂▃▃▃▃▄▄▄▄▅▅▅▅▆▆▆▆▇▇▇▇███</td></tr><tr><td>train/epoch_loss</td><td>█▆▅▄▄▄▄▃▃▃▃▃▂▂▂▂▂▂▂▂▂▂▂▁▁▁▁▁▁▁</td></tr><tr><td>train/iter</td><td>▃▇▅▄▁█▅▅▂▁▆▅▂▂▆▅▃▂▆▆▃▂▇▆▃▃▇▇▄▃█▇▄▄▁█▅▄▁█</td></tr><tr><td>train/loss</td><td>▇▅▇▅▂▃▆▃▂▇▂█▇▆▃▄▃▃▄▄▆▄▆▅▅▄▃▄▄▂▃▄▁▃▂▂▄▅▅▅</td></tr></table><br/></div><div class=\"wandb-col\"><h3>Run summary:</h3><br/><table class=\"wandb\"><tr><td>test/accuracy</td><td>0.11196</td></tr><tr><td>train/epoch</td><td>29</td></tr><tr><td>train/epoch_loss</td><td>0.39258</td></tr><tr><td>train/iter</td><td>6690</td></tr><tr><td>train/loss</td><td>0.31253</td></tr></table><br/></div></div>"
            ],
            "text/plain": [
              "<IPython.core.display.HTML object>"
            ]
          },
          "metadata": {},
          "output_type": "display_data"
        },
        {
          "data": {
            "text/html": [
              "Synced <strong style=\"color:#cdcd00\">exp_32p_0</strong>: <a href=\"https://wandb.ai/yuqinzhou/ATNLP/runs/34gyhyrn\" target=\"_blank\">https://wandb.ai/yuqinzhou/ATNLP/runs/34gyhyrn</a><br/>Synced 5 W&B file(s), 0 media file(s), 0 artifact file(s) and 0 other file(s)"
            ],
            "text/plain": [
              "<IPython.core.display.HTML object>"
            ]
          },
          "metadata": {},
          "output_type": "display_data"
        },
        {
          "data": {
            "text/html": [
              "Find logs at: <code>./wandb/run-20221229_102210-34gyhyrn/logs</code>"
            ],
            "text/plain": [
              "<IPython.core.display.HTML object>"
            ]
          },
          "metadata": {},
          "output_type": "display_data"
        },
        {
          "data": {
            "text/html": [
              "Tracking run with wandb version 0.13.7"
            ],
            "text/plain": [
              "<IPython.core.display.HTML object>"
            ]
          },
          "metadata": {},
          "output_type": "display_data"
        },
        {
          "data": {
            "text/html": [
              "Run data is saved locally in <code>/content/drive/MyDrive/ATNLP/transformer_scan/wandb/run-20221229_114745-r5aecr1h</code>"
            ],
            "text/plain": [
              "<IPython.core.display.HTML object>"
            ]
          },
          "metadata": {},
          "output_type": "display_data"
        },
        {
          "data": {
            "text/html": [
              "Syncing run <strong><a href=\"https://wandb.ai/yuqinzhou/ATNLP/runs/r5aecr1h\" target=\"_blank\">exp_32p_1</a></strong> to <a href=\"https://wandb.ai/yuqinzhou/ATNLP\" target=\"_blank\">Weights & Biases</a> (<a href=\"https://wandb.me/run\" target=\"_blank\">docs</a>)<br/>"
            ],
            "text/plain": [
              "<IPython.core.display.HTML object>"
            ]
          },
          "metadata": {},
          "output_type": "display_data"
        },
        {
          "metadata": {
            "tags": null
          },
          "name": "stdout",
          "output_type": "stream",
          "text": [
            "Epoch: 0 | Iter: 1999 | Loss: 1.051\n",
            "Epoch: 0 | Iter: 3999 | Loss: 0.842\n",
            "Epoch: 0 | Iter: 5999 | Loss: 0.798\n",
            "Epoch: 01 | Time: 2m 34s\n",
            "\tTrain Loss: 0.883\n",
            "Epoch: 1 | Iter: 1999 | Loss: 0.748\n",
            "Epoch: 1 | Iter: 3999 | Loss: 0.726\n",
            "Epoch: 1 | Iter: 5999 | Loss: 0.710\n",
            "Epoch: 02 | Time: 2m 28s\n",
            "\tTrain Loss: 0.724\n",
            "Epoch: 2 | Iter: 1999 | Loss: 0.682\n",
            "Epoch: 2 | Iter: 3999 | Loss: 0.661\n",
            "Epoch: 2 | Iter: 5999 | Loss: 0.669\n",
            "Epoch: 03 | Time: 2m 30s\n",
            "\tTrain Loss: 0.669\n",
            "Epoch: 3 | Iter: 1999 | Loss: 0.647\n",
            "Epoch: 3 | Iter: 3999 | Loss: 0.637\n",
            "Epoch: 3 | Iter: 5999 | Loss: 0.632\n",
            "Epoch: 04 | Time: 2m 30s\n",
            "\tTrain Loss: 0.638\n",
            "Epoch: 4 | Iter: 1999 | Loss: 0.621\n",
            "Epoch: 4 | Iter: 3999 | Loss: 0.615\n",
            "Epoch: 4 | Iter: 5999 | Loss: 0.610\n",
            "Epoch: 05 | Time: 2m 29s\n",
            "\tTrain Loss: 0.615\n",
            "Epoch: 5 | Iter: 1999 | Loss: 0.599\n",
            "Epoch: 5 | Iter: 3999 | Loss: 0.600\n",
            "Epoch: 5 | Iter: 5999 | Loss: 0.604\n",
            "Epoch: 06 | Time: 2m 30s\n",
            "\tTrain Loss: 0.599\n",
            "Epoch: 6 | Iter: 1999 | Loss: 0.586\n",
            "Epoch: 6 | Iter: 3999 | Loss: 0.580\n",
            "Epoch: 6 | Iter: 5999 | Loss: 0.582\n",
            "Epoch: 07 | Time: 2m 28s\n",
            "\tTrain Loss: 0.582\n",
            "Epoch: 7 | Iter: 1999 | Loss: 0.576\n",
            "Epoch: 7 | Iter: 3999 | Loss: 0.564\n",
            "Epoch: 7 | Iter: 5999 | Loss: 0.574\n",
            "Epoch: 08 | Time: 2m 28s\n",
            "\tTrain Loss: 0.569\n",
            "Epoch: 8 | Iter: 1999 | Loss: 0.560\n",
            "Epoch: 8 | Iter: 3999 | Loss: 0.555\n",
            "Epoch: 8 | Iter: 5999 | Loss: 0.556\n",
            "Epoch: 09 | Time: 2m 26s\n",
            "\tTrain Loss: 0.557\n",
            "Epoch: 9 | Iter: 1999 | Loss: 0.550\n",
            "Epoch: 9 | Iter: 3999 | Loss: 0.549\n",
            "Epoch: 9 | Iter: 5999 | Loss: 0.548\n",
            "Epoch: 10 | Time: 2m 28s\n",
            "\tTrain Loss: 0.549\n",
            "Epoch: 10 | Iter: 1999 | Loss: 0.543\n",
            "Epoch: 10 | Iter: 3999 | Loss: 0.536\n",
            "Epoch: 10 | Iter: 5999 | Loss: 0.537\n",
            "Epoch: 11 | Time: 2m 30s\n",
            "\tTrain Loss: 0.538\n",
            "Epoch: 11 | Iter: 1999 | Loss: 0.532\n",
            "Epoch: 11 | Iter: 3999 | Loss: 0.525\n",
            "Epoch: 11 | Iter: 5999 | Loss: 0.532\n",
            "Epoch: 12 | Time: 2m 29s\n",
            "\tTrain Loss: 0.528\n",
            "Epoch: 12 | Iter: 1999 | Loss: 0.520\n",
            "Epoch: 12 | Iter: 3999 | Loss: 0.521\n",
            "Epoch: 12 | Iter: 5999 | Loss: 0.518\n",
            "Epoch: 13 | Time: 2m 32s\n",
            "\tTrain Loss: 0.519\n",
            "Epoch: 13 | Iter: 1999 | Loss: 0.513\n",
            "Epoch: 13 | Iter: 3999 | Loss: 0.516\n",
            "Epoch: 13 | Iter: 5999 | Loss: 0.511\n",
            "Epoch: 14 | Time: 2m 30s\n",
            "\tTrain Loss: 0.514\n",
            "Epoch: 14 | Iter: 1999 | Loss: 0.506\n",
            "Epoch: 14 | Iter: 3999 | Loss: 0.508\n",
            "Epoch: 14 | Iter: 5999 | Loss: 0.510\n",
            "Epoch: 15 | Time: 2m 34s\n",
            "\tTrain Loss: 0.508\n",
            "Epoch: 15 | Iter: 1999 | Loss: 0.500\n",
            "Epoch: 15 | Iter: 3999 | Loss: 0.497\n",
            "Epoch: 15 | Iter: 5999 | Loss: 0.503\n",
            "Epoch: 16 | Time: 2m 34s\n",
            "\tTrain Loss: 0.501\n",
            "Epoch: 16 | Iter: 1999 | Loss: 0.497\n",
            "Epoch: 16 | Iter: 3999 | Loss: 0.496\n",
            "Epoch: 16 | Iter: 5999 | Loss: 0.497\n",
            "Epoch: 17 | Time: 2m 35s\n",
            "\tTrain Loss: 0.497\n",
            "Epoch: 17 | Iter: 1999 | Loss: 0.490\n",
            "Epoch: 17 | Iter: 3999 | Loss: 0.488\n",
            "Epoch: 17 | Iter: 5999 | Loss: 0.491\n",
            "Epoch: 18 | Time: 2m 37s\n",
            "\tTrain Loss: 0.489\n",
            "Epoch: 18 | Iter: 1999 | Loss: 0.491\n",
            "Epoch: 18 | Iter: 3999 | Loss: 0.482\n",
            "Epoch: 18 | Iter: 5999 | Loss: 0.488\n",
            "Epoch: 19 | Time: 2m 40s\n",
            "\tTrain Loss: 0.486\n",
            "Epoch: 19 | Iter: 1999 | Loss: 0.483\n",
            "Epoch: 19 | Iter: 3999 | Loss: 0.479\n",
            "Epoch: 19 | Iter: 5999 | Loss: 0.472\n",
            "Epoch: 20 | Time: 2m 41s\n",
            "\tTrain Loss: 0.477\n",
            "Epoch: 20 | Iter: 1999 | Loss: 0.475\n",
            "Epoch: 20 | Iter: 3999 | Loss: 0.475\n",
            "Epoch: 20 | Iter: 5999 | Loss: 0.476\n",
            "Epoch: 21 | Time: 2m 43s\n",
            "\tTrain Loss: 0.475\n",
            "Epoch: 21 | Iter: 1999 | Loss: 0.474\n",
            "Epoch: 21 | Iter: 3999 | Loss: 0.477\n",
            "Epoch: 21 | Iter: 5999 | Loss: 0.482\n",
            "Epoch: 22 | Time: 2m 46s\n",
            "\tTrain Loss: 0.477\n",
            "Epoch: 22 | Iter: 1999 | Loss: 0.470\n",
            "Epoch: 22 | Iter: 3999 | Loss: 0.465\n",
            "Epoch: 22 | Iter: 5999 | Loss: 0.469\n",
            "Epoch: 23 | Time: 2m 46s\n",
            "\tTrain Loss: 0.469\n",
            "Epoch: 23 | Iter: 1999 | Loss: 0.464\n",
            "Epoch: 23 | Iter: 3999 | Loss: 0.464\n",
            "Epoch: 23 | Iter: 5999 | Loss: 0.463\n",
            "Epoch: 24 | Time: 2m 48s\n",
            "\tTrain Loss: 0.464\n",
            "Epoch: 24 | Iter: 1999 | Loss: 0.468\n",
            "Epoch: 24 | Iter: 3999 | Loss: 0.460\n",
            "Epoch: 24 | Iter: 5999 | Loss: 0.458\n",
            "Epoch: 25 | Time: 2m 50s\n",
            "\tTrain Loss: 0.461\n",
            "Epoch: 25 | Iter: 1999 | Loss: 0.461\n",
            "Epoch: 25 | Iter: 3999 | Loss: 0.457\n",
            "Epoch: 25 | Iter: 5999 | Loss: 0.458\n",
            "Epoch: 26 | Time: 2m 54s\n",
            "\tTrain Loss: 0.457\n",
            "Epoch: 26 | Iter: 1999 | Loss: 0.453\n",
            "Epoch: 26 | Iter: 3999 | Loss: 0.455\n",
            "Epoch: 26 | Iter: 5999 | Loss: 0.457\n",
            "Epoch: 27 | Time: 2m 52s\n",
            "\tTrain Loss: 0.454\n",
            "Epoch: 27 | Iter: 1999 | Loss: 0.453\n",
            "Epoch: 27 | Iter: 3999 | Loss: 0.453\n",
            "Epoch: 27 | Iter: 5999 | Loss: 0.455\n",
            "Epoch: 28 | Time: 2m 57s\n",
            "\tTrain Loss: 0.454\n",
            "Epoch: 28 | Iter: 1999 | Loss: 0.454\n",
            "Epoch: 28 | Iter: 3999 | Loss: 0.447\n",
            "Epoch: 28 | Iter: 5999 | Loss: 0.452\n",
            "Epoch: 29 | Time: 2m 55s\n",
            "\tTrain Loss: 0.451\n",
            "Epoch: 29 | Iter: 1999 | Loss: 0.443\n",
            "Epoch: 29 | Iter: 3999 | Loss: 0.438\n",
            "Epoch: 29 | Iter: 5999 | Loss: 0.443\n",
            "Epoch: 30 | Time: 2m 56s\n",
            "\tTrain Loss: 0.442\n",
            "Testing:\n",
            "9999 0.0675067506750675\n"
          ]
        },
        {
          "data": {
            "text/html": [
              "Waiting for W&B process to finish... <strong style=\"color:green\">(success).</strong>"
            ],
            "text/plain": [
              "<IPython.core.display.HTML object>"
            ]
          },
          "metadata": {},
          "output_type": "display_data"
        },
        {
          "data": {
            "application/vnd.jupyter.widget-view+json": {
              "model_id": "193cd21515774ba6a67d5c28add3aa35",
              "version_major": 2,
              "version_minor": 0
            },
            "text/plain": [
              "VBox(children=(Label(value='0.001 MB of 0.001 MB uploaded (0.000 MB deduped)\\r'), FloatProgress(value=1.0, max…"
            ]
          },
          "metadata": {},
          "output_type": "display_data"
        },
        {
          "data": {
            "text/html": [
              "<style>\n",
              "    table.wandb td:nth-child(1) { padding: 0 10px; text-align: left ; width: auto;} td:nth-child(2) {text-align: left ; width: 100%}\n",
              "    .wandb-row { display: flex; flex-direction: row; flex-wrap: wrap; justify-content: flex-start; width: 100% }\n",
              "    .wandb-col { display: flex; flex-direction: column; flex-basis: 100%; flex: 1; padding: 10px; }\n",
              "    </style>\n",
              "<div class=\"wandb-row\"><div class=\"wandb-col\"><h3>Run history:</h3><br/><table class=\"wandb\"><tr><td>test/accuracy</td><td>▁</td></tr><tr><td>train/epoch</td><td>▁▁▁▂▂▂▂▃▃▃▃▄▄▄▄▅▅▅▅▆▆▆▆▇▇▇▇███</td></tr><tr><td>train/epoch_loss</td><td>█▅▅▄▄▃▃▃▃▃▃▂▂▂▂▂▂▂▂▂▂▂▁▁▁▁▁▁▁▁</td></tr><tr><td>train/iter</td><td>▃▇▅▄▁█▅▅▂▁▆▅▂▂▆▅▃▂▆▆▃▂▇▆▃▃▇▇▄▃█▇▄▄▁█▅▄▁█</td></tr><tr><td>train/loss</td><td>██▇▇▁▂█▆▂▂▁▅▆▅▂▃▄▄▃▃▄▃▇▄▅▄▃▃▂▂▆▄▄▃▂▁▂▅▁▃</td></tr></table><br/></div><div class=\"wandb-col\"><h3>Run summary:</h3><br/><table class=\"wandb\"><tr><td>test/accuracy</td><td>0.06752</td></tr><tr><td>train/epoch</td><td>29</td></tr><tr><td>train/epoch_loss</td><td>0.44193</td></tr><tr><td>train/iter</td><td>6690</td></tr><tr><td>train/loss</td><td>0.56053</td></tr></table><br/></div></div>"
            ],
            "text/plain": [
              "<IPython.core.display.HTML object>"
            ]
          },
          "metadata": {},
          "output_type": "display_data"
        },
        {
          "data": {
            "text/html": [
              "Synced <strong style=\"color:#cdcd00\">exp_32p_1</strong>: <a href=\"https://wandb.ai/yuqinzhou/ATNLP/runs/r5aecr1h\" target=\"_blank\">https://wandb.ai/yuqinzhou/ATNLP/runs/r5aecr1h</a><br/>Synced 5 W&B file(s), 0 media file(s), 0 artifact file(s) and 0 other file(s)"
            ],
            "text/plain": [
              "<IPython.core.display.HTML object>"
            ]
          },
          "metadata": {},
          "output_type": "display_data"
        },
        {
          "data": {
            "text/html": [
              "Find logs at: <code>./wandb/run-20221229_114745-r5aecr1h/logs</code>"
            ],
            "text/plain": [
              "<IPython.core.display.HTML object>"
            ]
          },
          "metadata": {},
          "output_type": "display_data"
        },
        {
          "data": {
            "text/html": [
              "Tracking run with wandb version 0.13.7"
            ],
            "text/plain": [
              "<IPython.core.display.HTML object>"
            ]
          },
          "metadata": {},
          "output_type": "display_data"
        },
        {
          "data": {
            "text/html": [
              "Run data is saved locally in <code>/content/drive/MyDrive/ATNLP/transformer_scan/wandb/run-20221229_131743-2qs2d8l8</code>"
            ],
            "text/plain": [
              "<IPython.core.display.HTML object>"
            ]
          },
          "metadata": {},
          "output_type": "display_data"
        },
        {
          "data": {
            "text/html": [
              "Syncing run <strong><a href=\"https://wandb.ai/yuqinzhou/ATNLP/runs/2qs2d8l8\" target=\"_blank\">exp_32p_2</a></strong> to <a href=\"https://wandb.ai/yuqinzhou/ATNLP\" target=\"_blank\">Weights & Biases</a> (<a href=\"https://wandb.me/run\" target=\"_blank\">docs</a>)<br/>"
            ],
            "text/plain": [
              "<IPython.core.display.HTML object>"
            ]
          },
          "metadata": {},
          "output_type": "display_data"
        },
        {
          "metadata": {
            "tags": null
          },
          "name": "stdout",
          "output_type": "stream",
          "text": [
            "Epoch: 0 | Iter: 1999 | Loss: 1.054\n",
            "Epoch: 0 | Iter: 3999 | Loss: 0.836\n",
            "Epoch: 0 | Iter: 5999 | Loss: 0.783\n",
            "Epoch: 01 | Time: 2m 38s\n",
            "\tTrain Loss: 0.877\n",
            "Epoch: 1 | Iter: 1999 | Loss: 0.740\n",
            "Epoch: 1 | Iter: 3999 | Loss: 0.710\n",
            "Epoch: 1 | Iter: 5999 | Loss: 0.697\n",
            "Epoch: 02 | Time: 2m 39s\n",
            "\tTrain Loss: 0.712\n",
            "Epoch: 2 | Iter: 1999 | Loss: 0.674\n",
            "Epoch: 2 | Iter: 3999 | Loss: 0.657\n",
            "Epoch: 2 | Iter: 5999 | Loss: 0.647\n",
            "Epoch: 03 | Time: 2m 36s\n",
            "\tTrain Loss: 0.657\n",
            "Epoch: 3 | Iter: 1999 | Loss: 0.652\n",
            "Epoch: 3 | Iter: 3999 | Loss: 0.636\n",
            "Epoch: 3 | Iter: 5999 | Loss: 0.636\n",
            "Epoch: 04 | Time: 2m 40s\n",
            "\tTrain Loss: 0.639\n",
            "Epoch: 4 | Iter: 1999 | Loss: 0.610\n",
            "Epoch: 4 | Iter: 3999 | Loss: 0.597\n",
            "Epoch: 4 | Iter: 5999 | Loss: 0.599\n",
            "Epoch: 05 | Time: 2m 40s\n",
            "\tTrain Loss: 0.600\n",
            "Epoch: 5 | Iter: 1999 | Loss: 0.579\n",
            "Epoch: 5 | Iter: 3999 | Loss: 0.578\n",
            "Epoch: 5 | Iter: 5999 | Loss: 0.579\n",
            "Epoch: 06 | Time: 2m 39s\n",
            "\tTrain Loss: 0.579\n",
            "Epoch: 6 | Iter: 1999 | Loss: 0.575\n",
            "Epoch: 6 | Iter: 3999 | Loss: 0.564\n",
            "Epoch: 6 | Iter: 5999 | Loss: 0.563\n",
            "Epoch: 07 | Time: 2m 38s\n",
            "\tTrain Loss: 0.566\n",
            "Epoch: 7 | Iter: 1999 | Loss: 0.558\n",
            "Epoch: 7 | Iter: 3999 | Loss: 0.551\n",
            "Epoch: 7 | Iter: 5999 | Loss: 0.549\n",
            "Epoch: 08 | Time: 2m 40s\n",
            "\tTrain Loss: 0.551\n",
            "Epoch: 8 | Iter: 1999 | Loss: 0.539\n",
            "Epoch: 8 | Iter: 3999 | Loss: 0.534\n",
            "Epoch: 8 | Iter: 5999 | Loss: 0.536\n",
            "Epoch: 09 | Time: 2m 39s\n",
            "\tTrain Loss: 0.537\n",
            "Epoch: 9 | Iter: 1999 | Loss: 0.534\n",
            "Epoch: 9 | Iter: 3999 | Loss: 0.526\n",
            "Epoch: 9 | Iter: 5999 | Loss: 0.534\n",
            "Epoch: 10 | Time: 2m 38s\n",
            "\tTrain Loss: 0.530\n",
            "Epoch: 10 | Iter: 1999 | Loss: 0.519\n",
            "Epoch: 10 | Iter: 3999 | Loss: 0.521\n",
            "Epoch: 10 | Iter: 5999 | Loss: 0.519\n",
            "Epoch: 11 | Time: 2m 36s\n",
            "\tTrain Loss: 0.518\n",
            "Epoch: 11 | Iter: 1999 | Loss: 0.516\n",
            "Epoch: 11 | Iter: 3999 | Loss: 0.508\n",
            "Epoch: 11 | Iter: 5999 | Loss: 0.509\n",
            "Epoch: 12 | Time: 2m 40s\n",
            "\tTrain Loss: 0.511\n",
            "Epoch: 12 | Iter: 1999 | Loss: 0.505\n",
            "Epoch: 12 | Iter: 3999 | Loss: 0.499\n",
            "Epoch: 12 | Iter: 5999 | Loss: 0.500\n",
            "Epoch: 13 | Time: 2m 43s\n",
            "\tTrain Loss: 0.499\n",
            "Epoch: 13 | Iter: 1999 | Loss: 0.495\n",
            "Epoch: 13 | Iter: 3999 | Loss: 0.490\n",
            "Epoch: 13 | Iter: 5999 | Loss: 0.490\n",
            "Epoch: 14 | Time: 2m 44s\n",
            "\tTrain Loss: 0.490\n",
            "Epoch: 14 | Iter: 1999 | Loss: 0.477\n",
            "Epoch: 14 | Iter: 3999 | Loss: 0.474\n",
            "Epoch: 14 | Iter: 5999 | Loss: 0.480\n",
            "Epoch: 15 | Time: 2m 43s\n",
            "\tTrain Loss: 0.476\n",
            "Epoch: 15 | Iter: 1999 | Loss: 0.467\n",
            "Epoch: 15 | Iter: 3999 | Loss: 0.465\n",
            "Epoch: 15 | Iter: 5999 | Loss: 0.466\n",
            "Epoch: 16 | Time: 2m 45s\n",
            "\tTrain Loss: 0.466\n",
            "Epoch: 16 | Iter: 1999 | Loss: 0.465\n",
            "Epoch: 16 | Iter: 3999 | Loss: 0.462\n",
            "Epoch: 16 | Iter: 5999 | Loss: 0.465\n",
            "Epoch: 17 | Time: 2m 46s\n",
            "\tTrain Loss: 0.465\n",
            "Epoch: 17 | Iter: 1999 | Loss: 0.460\n",
            "Epoch: 17 | Iter: 3999 | Loss: 0.457\n",
            "Epoch: 17 | Iter: 5999 | Loss: 0.460\n",
            "Epoch: 18 | Time: 2m 49s\n",
            "\tTrain Loss: 0.457\n",
            "Epoch: 18 | Iter: 1999 | Loss: 0.449\n",
            "Epoch: 18 | Iter: 3999 | Loss: 0.444\n",
            "Epoch: 18 | Iter: 5999 | Loss: 0.443\n",
            "Epoch: 19 | Time: 2m 56s\n",
            "\tTrain Loss: 0.445\n",
            "Epoch: 19 | Iter: 1999 | Loss: 0.445\n",
            "Epoch: 19 | Iter: 3999 | Loss: 0.442\n",
            "Epoch: 19 | Iter: 5999 | Loss: 0.449\n",
            "Epoch: 20 | Time: 2m 57s\n",
            "\tTrain Loss: 0.445\n",
            "Epoch: 20 | Iter: 1999 | Loss: 0.431\n",
            "Epoch: 20 | Iter: 3999 | Loss: 0.431\n",
            "Epoch: 20 | Iter: 5999 | Loss: 0.435\n",
            "Epoch: 21 | Time: 2m 54s\n",
            "\tTrain Loss: 0.432\n",
            "Epoch: 21 | Iter: 1999 | Loss: 0.430\n",
            "Epoch: 21 | Iter: 3999 | Loss: 0.425\n",
            "Epoch: 21 | Iter: 5999 | Loss: 0.432\n",
            "Epoch: 22 | Time: 2m 57s\n",
            "\tTrain Loss: 0.428\n",
            "Epoch: 22 | Iter: 1999 | Loss: 0.431\n",
            "Epoch: 22 | Iter: 3999 | Loss: 0.418\n",
            "Epoch: 22 | Iter: 5999 | Loss: 0.424\n",
            "Epoch: 23 | Time: 2m 54s\n",
            "\tTrain Loss: 0.425\n",
            "Epoch: 23 | Iter: 1999 | Loss: 0.414\n",
            "Epoch: 23 | Iter: 3999 | Loss: 0.413\n",
            "Epoch: 23 | Iter: 5999 | Loss: 0.415\n",
            "Epoch: 24 | Time: 2m 55s\n",
            "\tTrain Loss: 0.414\n",
            "Epoch: 24 | Iter: 1999 | Loss: 0.411\n",
            "Epoch: 24 | Iter: 3999 | Loss: 0.414\n",
            "Epoch: 24 | Iter: 5999 | Loss: 0.404\n",
            "Epoch: 25 | Time: 2m 53s\n",
            "\tTrain Loss: 0.409\n",
            "Epoch: 25 | Iter: 1999 | Loss: 0.412\n",
            "Epoch: 25 | Iter: 3999 | Loss: 0.408\n",
            "Epoch: 25 | Iter: 5999 | Loss: 0.402\n",
            "Epoch: 26 | Time: 3m 2s\n",
            "\tTrain Loss: 0.406\n",
            "Epoch: 26 | Iter: 1999 | Loss: 0.405\n",
            "Epoch: 26 | Iter: 3999 | Loss: 0.397\n",
            "Epoch: 26 | Iter: 5999 | Loss: 0.392\n",
            "Epoch: 27 | Time: 2m 57s\n",
            "\tTrain Loss: 0.398\n",
            "Epoch: 27 | Iter: 1999 | Loss: 0.392\n",
            "Epoch: 27 | Iter: 3999 | Loss: 0.389\n",
            "Epoch: 27 | Iter: 5999 | Loss: 0.393\n",
            "Epoch: 28 | Time: 3m 0s\n",
            "\tTrain Loss: 0.390\n",
            "Epoch: 28 | Iter: 1999 | Loss: 0.388\n",
            "Epoch: 28 | Iter: 3999 | Loss: 0.385\n",
            "Epoch: 28 | Iter: 5999 | Loss: 0.379\n",
            "Epoch: 29 | Time: 2m 59s\n",
            "\tTrain Loss: 0.384\n",
            "Epoch: 29 | Iter: 1999 | Loss: 0.381\n",
            "Epoch: 29 | Iter: 3999 | Loss: 0.377\n",
            "Epoch: 29 | Iter: 5999 | Loss: 0.374\n",
            "Epoch: 30 | Time: 3m 5s\n",
            "\tTrain Loss: 0.376\n",
            "Testing:\n",
            "9999 0.09920992099209922\n"
          ]
        },
        {
          "data": {
            "text/html": [
              "Waiting for W&B process to finish... <strong style=\"color:green\">(success).</strong>"
            ],
            "text/plain": [
              "<IPython.core.display.HTML object>"
            ]
          },
          "metadata": {},
          "output_type": "display_data"
        },
        {
          "data": {
            "application/vnd.jupyter.widget-view+json": {
              "model_id": "ffe8923b0eec4a13b569943762f472d5",
              "version_major": 2,
              "version_minor": 0
            },
            "text/plain": [
              "VBox(children=(Label(value='0.001 MB of 0.001 MB uploaded (0.000 MB deduped)\\r'), FloatProgress(value=1.0, max…"
            ]
          },
          "metadata": {},
          "output_type": "display_data"
        },
        {
          "data": {
            "text/html": [
              "<style>\n",
              "    table.wandb td:nth-child(1) { padding: 0 10px; text-align: left ; width: auto;} td:nth-child(2) {text-align: left ; width: 100%}\n",
              "    .wandb-row { display: flex; flex-direction: row; flex-wrap: wrap; justify-content: flex-start; width: 100% }\n",
              "    .wandb-col { display: flex; flex-direction: column; flex-basis: 100%; flex: 1; padding: 10px; }\n",
              "    </style>\n",
              "<div class=\"wandb-row\"><div class=\"wandb-col\"><h3>Run history:</h3><br/><table class=\"wandb\"><tr><td>test/accuracy</td><td>▁</td></tr><tr><td>train/epoch</td><td>▁▁▁▂▂▂▂▃▃▃▃▄▄▄▄▅▅▅▅▆▆▆▆▇▇▇▇███</td></tr><tr><td>train/epoch_loss</td><td>█▆▅▅▄▄▄▃▃▃▃▃▃▃▂▂▂▂▂▂▂▂▂▂▁▁▁▁▁▁</td></tr><tr><td>train/iter</td><td>▃▇▅▄▁█▅▅▂▁▆▅▂▂▆▅▃▂▆▆▃▂▇▆▃▃▇▇▄▃█▇▄▄▁█▅▄▁█</td></tr><tr><td>train/loss</td><td>▇▄▅▅▂▆▅▄▂▃▁▇▅▄▃▅█▄▅▃█▃▄▆▃▅█▃▄▂▂▃▃▃▂▂▂▂▁▃</td></tr></table><br/></div><div class=\"wandb-col\"><h3>Run summary:</h3><br/><table class=\"wandb\"><tr><td>test/accuracy</td><td>0.09987</td></tr><tr><td>train/epoch</td><td>29</td></tr><tr><td>train/epoch_loss</td><td>0.37572</td></tr><tr><td>train/iter</td><td>6690</td></tr><tr><td>train/loss</td><td>0.34966</td></tr></table><br/></div></div>"
            ],
            "text/plain": [
              "<IPython.core.display.HTML object>"
            ]
          },
          "metadata": {},
          "output_type": "display_data"
        },
        {
          "data": {
            "text/html": [
              "Synced <strong style=\"color:#cdcd00\">exp_32p_2</strong>: <a href=\"https://wandb.ai/yuqinzhou/ATNLP/runs/2qs2d8l8\" target=\"_blank\">https://wandb.ai/yuqinzhou/ATNLP/runs/2qs2d8l8</a><br/>Synced 5 W&B file(s), 0 media file(s), 0 artifact file(s) and 0 other file(s)"
            ],
            "text/plain": [
              "<IPython.core.display.HTML object>"
            ]
          },
          "metadata": {},
          "output_type": "display_data"
        },
        {
          "data": {
            "text/html": [
              "Find logs at: <code>./wandb/run-20221229_131743-2qs2d8l8/logs</code>"
            ],
            "text/plain": [
              "<IPython.core.display.HTML object>"
            ]
          },
          "metadata": {},
          "output_type": "display_data"
        },
        {
          "data": {
            "text/html": [
              "Tracking run with wandb version 0.13.7"
            ],
            "text/plain": [
              "<IPython.core.display.HTML object>"
            ]
          },
          "metadata": {},
          "output_type": "display_data"
        },
        {
          "data": {
            "text/html": [
              "Run data is saved locally in <code>/content/drive/MyDrive/ATNLP/transformer_scan/wandb/run-20221229_145055-teu7xga0</code>"
            ],
            "text/plain": [
              "<IPython.core.display.HTML object>"
            ]
          },
          "metadata": {},
          "output_type": "display_data"
        },
        {
          "data": {
            "text/html": [
              "Syncing run <strong><a href=\"https://wandb.ai/yuqinzhou/ATNLP/runs/teu7xga0\" target=\"_blank\">exp_32p_3</a></strong> to <a href=\"https://wandb.ai/yuqinzhou/ATNLP\" target=\"_blank\">Weights & Biases</a> (<a href=\"https://wandb.me/run\" target=\"_blank\">docs</a>)<br/>"
            ],
            "text/plain": [
              "<IPython.core.display.HTML object>"
            ]
          },
          "metadata": {},
          "output_type": "display_data"
        },
        {
          "metadata": {
            "tags": null
          },
          "name": "stdout",
          "output_type": "stream",
          "text": [
            "Epoch: 0 | Iter: 1999 | Loss: 1.054\n",
            "Epoch: 0 | Iter: 3999 | Loss: 0.838\n",
            "Epoch: 0 | Iter: 5999 | Loss: 0.798\n",
            "Epoch: 01 | Time: 2m 37s\n",
            "\tTrain Loss: 0.884\n",
            "Epoch: 1 | Iter: 1999 | Loss: 0.760\n",
            "Epoch: 1 | Iter: 3999 | Loss: 0.731\n",
            "Epoch: 1 | Iter: 5999 | Loss: 0.723\n",
            "Epoch: 02 | Time: 2m 44s\n",
            "\tTrain Loss: 0.735\n",
            "Epoch: 2 | Iter: 1999 | Loss: 0.698\n",
            "Epoch: 2 | Iter: 3999 | Loss: 0.682\n",
            "Epoch: 2 | Iter: 5999 | Loss: 0.683\n",
            "Epoch: 03 | Time: 2m 43s\n",
            "\tTrain Loss: 0.685\n",
            "Epoch: 3 | Iter: 1999 | Loss: 0.661\n",
            "Epoch: 3 | Iter: 3999 | Loss: 0.648\n",
            "Epoch: 3 | Iter: 5999 | Loss: 0.643\n",
            "Epoch: 04 | Time: 2m 47s\n",
            "\tTrain Loss: 0.649\n",
            "Epoch: 4 | Iter: 1999 | Loss: 0.630\n",
            "Epoch: 4 | Iter: 3999 | Loss: 0.619\n",
            "Epoch: 4 | Iter: 5999 | Loss: 0.615\n",
            "Epoch: 05 | Time: 2m 48s\n",
            "\tTrain Loss: 0.621\n",
            "Epoch: 5 | Iter: 1999 | Loss: 0.598\n",
            "Epoch: 5 | Iter: 3999 | Loss: 0.604\n",
            "Epoch: 5 | Iter: 5999 | Loss: 0.601\n",
            "Epoch: 06 | Time: 2m 42s\n",
            "\tTrain Loss: 0.601\n",
            "Epoch: 6 | Iter: 1999 | Loss: 0.580\n",
            "Epoch: 6 | Iter: 3999 | Loss: 0.583\n",
            "Epoch: 6 | Iter: 5999 | Loss: 0.580\n",
            "Epoch: 07 | Time: 2m 45s\n",
            "\tTrain Loss: 0.580\n",
            "Epoch: 7 | Iter: 1999 | Loss: 0.573\n",
            "Epoch: 7 | Iter: 3999 | Loss: 0.568\n",
            "Epoch: 7 | Iter: 5999 | Loss: 0.572\n",
            "Epoch: 08 | Time: 2m 43s\n",
            "\tTrain Loss: 0.570\n",
            "Epoch: 8 | Iter: 1999 | Loss: 0.567\n",
            "Epoch: 8 | Iter: 3999 | Loss: 0.557\n",
            "Epoch: 8 | Iter: 5999 | Loss: 0.555\n",
            "Epoch: 09 | Time: 2m 44s\n",
            "\tTrain Loss: 0.559\n",
            "Epoch: 9 | Iter: 1999 | Loss: 0.548\n",
            "Epoch: 9 | Iter: 3999 | Loss: 0.535\n",
            "Epoch: 9 | Iter: 5999 | Loss: 0.543\n",
            "Epoch: 10 | Time: 2m 46s\n",
            "\tTrain Loss: 0.542\n",
            "Epoch: 10 | Iter: 1999 | Loss: 0.539\n",
            "Epoch: 10 | Iter: 3999 | Loss: 0.533\n",
            "Epoch: 10 | Iter: 5999 | Loss: 0.535\n",
            "Epoch: 11 | Time: 2m 44s\n",
            "\tTrain Loss: 0.535\n",
            "Epoch: 11 | Iter: 1999 | Loss: 0.527\n",
            "Epoch: 11 | Iter: 3999 | Loss: 0.524\n",
            "Epoch: 11 | Iter: 5999 | Loss: 0.526\n",
            "Epoch: 12 | Time: 2m 42s\n",
            "\tTrain Loss: 0.525\n",
            "Epoch: 12 | Iter: 1999 | Loss: 0.516\n",
            "Epoch: 12 | Iter: 3999 | Loss: 0.512\n",
            "Epoch: 12 | Iter: 5999 | Loss: 0.520\n",
            "Epoch: 13 | Time: 2m 44s\n",
            "\tTrain Loss: 0.516\n",
            "Epoch: 13 | Iter: 1999 | Loss: 0.508\n",
            "Epoch: 13 | Iter: 3999 | Loss: 0.504\n",
            "Epoch: 13 | Iter: 5999 | Loss: 0.510\n",
            "Epoch: 14 | Time: 2m 43s\n",
            "\tTrain Loss: 0.506\n",
            "Epoch: 14 | Iter: 1999 | Loss: 0.495\n",
            "Epoch: 14 | Iter: 3999 | Loss: 0.498\n",
            "Epoch: 14 | Iter: 5999 | Loss: 0.504\n",
            "Epoch: 15 | Time: 2m 47s\n",
            "\tTrain Loss: 0.499\n",
            "Epoch: 15 | Iter: 1999 | Loss: 0.498\n",
            "Epoch: 15 | Iter: 3999 | Loss: 0.494\n",
            "Epoch: 15 | Iter: 5999 | Loss: 0.492\n",
            "Epoch: 16 | Time: 2m 48s\n",
            "\tTrain Loss: 0.494\n",
            "Epoch: 16 | Iter: 1999 | Loss: 0.485\n",
            "Epoch: 16 | Iter: 3999 | Loss: 0.484\n",
            "Epoch: 16 | Iter: 5999 | Loss: 0.487\n",
            "Epoch: 17 | Time: 2m 50s\n",
            "\tTrain Loss: 0.485\n",
            "Epoch: 17 | Iter: 1999 | Loss: 0.486\n",
            "Epoch: 17 | Iter: 3999 | Loss: 0.472\n",
            "Epoch: 17 | Iter: 5999 | Loss: 0.477\n",
            "Epoch: 18 | Time: 2m 53s\n",
            "\tTrain Loss: 0.478\n",
            "Epoch: 18 | Iter: 1999 | Loss: 0.475\n",
            "Epoch: 18 | Iter: 3999 | Loss: 0.467\n",
            "Epoch: 18 | Iter: 5999 | Loss: 0.470\n",
            "Epoch: 19 | Time: 2m 52s\n",
            "\tTrain Loss: 0.470\n",
            "Epoch: 19 | Iter: 1999 | Loss: 0.458\n",
            "Epoch: 19 | Iter: 3999 | Loss: 0.463\n",
            "Epoch: 19 | Iter: 5999 | Loss: 0.460\n",
            "Epoch: 20 | Time: 2m 56s\n",
            "\tTrain Loss: 0.460\n",
            "Epoch: 20 | Iter: 1999 | Loss: 0.451\n",
            "Epoch: 20 | Iter: 3999 | Loss: 0.448\n",
            "Epoch: 20 | Iter: 5999 | Loss: 0.443\n",
            "Epoch: 21 | Time: 2m 54s\n",
            "\tTrain Loss: 0.447\n",
            "Epoch: 21 | Iter: 1999 | Loss: 0.441\n",
            "Epoch: 21 | Iter: 3999 | Loss: 0.442\n",
            "Epoch: 21 | Iter: 5999 | Loss: 0.439\n",
            "Epoch: 22 | Time: 2m 56s\n",
            "\tTrain Loss: 0.440\n",
            "Epoch: 22 | Iter: 1999 | Loss: 0.429\n",
            "Epoch: 22 | Iter: 3999 | Loss: 0.435\n",
            "Epoch: 22 | Iter: 5999 | Loss: 0.427\n",
            "Epoch: 23 | Time: 3m 0s\n",
            "\tTrain Loss: 0.429\n",
            "Epoch: 23 | Iter: 1999 | Loss: 0.425\n",
            "Epoch: 23 | Iter: 3999 | Loss: 0.422\n",
            "Epoch: 23 | Iter: 5999 | Loss: 0.418\n",
            "Epoch: 24 | Time: 2m 59s\n",
            "\tTrain Loss: 0.421\n",
            "Epoch: 24 | Iter: 1999 | Loss: 0.419\n",
            "Epoch: 24 | Iter: 3999 | Loss: 0.413\n",
            "Epoch: 24 | Iter: 5999 | Loss: 0.410\n",
            "Epoch: 25 | Time: 3m 4s\n",
            "\tTrain Loss: 0.414\n",
            "Epoch: 25 | Iter: 1999 | Loss: 0.412\n",
            "Epoch: 25 | Iter: 3999 | Loss: 0.410\n",
            "Epoch: 25 | Iter: 5999 | Loss: 0.407\n",
            "Epoch: 26 | Time: 3m 2s\n",
            "\tTrain Loss: 0.410\n",
            "Epoch: 26 | Iter: 1999 | Loss: 0.400\n",
            "Epoch: 26 | Iter: 3999 | Loss: 0.395\n",
            "Epoch: 26 | Iter: 5999 | Loss: 0.398\n",
            "Epoch: 27 | Time: 3m 6s\n",
            "\tTrain Loss: 0.397\n",
            "Epoch: 27 | Iter: 1999 | Loss: 0.383\n",
            "Epoch: 27 | Iter: 3999 | Loss: 0.383\n",
            "Epoch: 27 | Iter: 5999 | Loss: 0.379\n",
            "Epoch: 28 | Time: 3m 3s\n",
            "\tTrain Loss: 0.381\n",
            "Epoch: 28 | Iter: 1999 | Loss: 0.375\n",
            "Epoch: 28 | Iter: 3999 | Loss: 0.366\n",
            "Epoch: 28 | Iter: 5999 | Loss: 0.368\n",
            "Epoch: 29 | Time: 3m 4s\n",
            "\tTrain Loss: 0.371\n",
            "Epoch: 29 | Iter: 1999 | Loss: 0.358\n",
            "Epoch: 29 | Iter: 3999 | Loss: 0.361\n",
            "Epoch: 29 | Iter: 5999 | Loss: 0.357\n",
            "Epoch: 30 | Time: 3m 1s\n",
            "\tTrain Loss: 0.357\n",
            "Testing:\n",
            "9999 0.1622162216221622\n"
          ]
        },
        {
          "data": {
            "text/html": [
              "Waiting for W&B process to finish... <strong style=\"color:green\">(success).</strong>"
            ],
            "text/plain": [
              "<IPython.core.display.HTML object>"
            ]
          },
          "metadata": {},
          "output_type": "display_data"
        },
        {
          "data": {
            "application/vnd.jupyter.widget-view+json": {
              "model_id": "6aacb93296ac4ab98cf2a63fe2c58f6c",
              "version_major": 2,
              "version_minor": 0
            },
            "text/plain": [
              "VBox(children=(Label(value='0.001 MB of 0.001 MB uploaded (0.000 MB deduped)\\r'), FloatProgress(value=1.0, max…"
            ]
          },
          "metadata": {},
          "output_type": "display_data"
        },
        {
          "data": {
            "text/html": [
              "<style>\n",
              "    table.wandb td:nth-child(1) { padding: 0 10px; text-align: left ; width: auto;} td:nth-child(2) {text-align: left ; width: 100%}\n",
              "    .wandb-row { display: flex; flex-direction: row; flex-wrap: wrap; justify-content: flex-start; width: 100% }\n",
              "    .wandb-col { display: flex; flex-direction: column; flex-basis: 100%; flex: 1; padding: 10px; }\n",
              "    </style>\n",
              "<div class=\"wandb-row\"><div class=\"wandb-col\"><h3>Run history:</h3><br/><table class=\"wandb\"><tr><td>test/accuracy</td><td>▁</td></tr><tr><td>train/epoch</td><td>▁▁▁▂▂▂▂▃▃▃▃▄▄▄▄▅▅▅▅▆▆▆▆▇▇▇▇███</td></tr><tr><td>train/epoch_loss</td><td>█▆▅▅▅▄▄▄▄▃▃▃▃▃▃▃▃▃▃▂▂▂▂▂▂▂▂▁▁▁</td></tr><tr><td>train/iter</td><td>▃▇▅▄▁█▅▅▂▁▆▅▂▂▆▅▃▂▆▆▃▂▇▆▃▃▇▇▄▃█▇▄▄▁█▅▄▁█</td></tr><tr><td>train/loss</td><td>▇▇█▅▃▅▇▅▂▅▂▄▆▆▂▅▆▅▇▃▆▃▅▄▅▄▆▄▃▂▂▃▃▄▄▁▃▁▂▁</td></tr></table><br/></div><div class=\"wandb-col\"><h3>Run summary:</h3><br/><table class=\"wandb\"><tr><td>test/accuracy</td><td>0.16077</td></tr><tr><td>train/epoch</td><td>29</td></tr><tr><td>train/epoch_loss</td><td>0.35693</td></tr><tr><td>train/iter</td><td>6690</td></tr><tr><td>train/loss</td><td>0.18258</td></tr></table><br/></div></div>"
            ],
            "text/plain": [
              "<IPython.core.display.HTML object>"
            ]
          },
          "metadata": {},
          "output_type": "display_data"
        },
        {
          "data": {
            "text/html": [
              "Synced <strong style=\"color:#cdcd00\">exp_32p_3</strong>: <a href=\"https://wandb.ai/yuqinzhou/ATNLP/runs/teu7xga0\" target=\"_blank\">https://wandb.ai/yuqinzhou/ATNLP/runs/teu7xga0</a><br/>Synced 5 W&B file(s), 0 media file(s), 0 artifact file(s) and 0 other file(s)"
            ],
            "text/plain": [
              "<IPython.core.display.HTML object>"
            ]
          },
          "metadata": {},
          "output_type": "display_data"
        },
        {
          "data": {
            "text/html": [
              "Find logs at: <code>./wandb/run-20221229_145055-teu7xga0/logs</code>"
            ],
            "text/plain": [
              "<IPython.core.display.HTML object>"
            ]
          },
          "metadata": {},
          "output_type": "display_data"
        },
        {
          "data": {
            "text/html": [
              "Tracking run with wandb version 0.13.7"
            ],
            "text/plain": [
              "<IPython.core.display.HTML object>"
            ]
          },
          "metadata": {},
          "output_type": "display_data"
        },
        {
          "data": {
            "text/html": [
              "Run data is saved locally in <code>/content/drive/MyDrive/ATNLP/transformer_scan/wandb/run-20221229_162437-1slhxvec</code>"
            ],
            "text/plain": [
              "<IPython.core.display.HTML object>"
            ]
          },
          "metadata": {},
          "output_type": "display_data"
        },
        {
          "data": {
            "text/html": [
              "Syncing run <strong><a href=\"https://wandb.ai/yuqinzhou/ATNLP/runs/1slhxvec\" target=\"_blank\">exp_32p_4</a></strong> to <a href=\"https://wandb.ai/yuqinzhou/ATNLP\" target=\"_blank\">Weights & Biases</a> (<a href=\"https://wandb.me/run\" target=\"_blank\">docs</a>)<br/>"
            ],
            "text/plain": [
              "<IPython.core.display.HTML object>"
            ]
          },
          "metadata": {},
          "output_type": "display_data"
        },
        {
          "output_type": "stream",
          "name": "stdout",
          "text": [
            "Epoch: 0 | Iter: 1999 | Loss: 1.064\n",
            "Epoch: 0 | Iter: 3999 | Loss: 0.844\n",
            "Epoch: 0 | Iter: 5999 | Loss: 0.807\n",
            "Epoch: 01 | Time: 2m 47s\n",
            "\tTrain Loss: 0.892\n",
            "Epoch: 1 | Iter: 1999 | Loss: 0.777\n",
            "Epoch: 1 | Iter: 3999 | Loss: 0.741\n",
            "Epoch: 1 | Iter: 5999 | Loss: 0.731\n",
            "Epoch: 02 | Time: 2m 44s\n",
            "\tTrain Loss: 0.744\n",
            "Epoch: 2 | Iter: 1999 | Loss: 0.704\n",
            "Epoch: 2 | Iter: 3999 | Loss: 0.688\n",
            "Epoch: 2 | Iter: 5999 | Loss: 0.684\n",
            "Epoch: 03 | Time: 2m 45s\n",
            "\tTrain Loss: 0.689\n",
            "Epoch: 3 | Iter: 1999 | Loss: 0.655\n",
            "Epoch: 3 | Iter: 3999 | Loss: 0.637\n",
            "Epoch: 3 | Iter: 5999 | Loss: 0.646\n",
            "Epoch: 04 | Time: 2m 46s\n",
            "\tTrain Loss: 0.645\n",
            "Epoch: 4 | Iter: 1999 | Loss: 0.629\n",
            "Epoch: 4 | Iter: 3999 | Loss: 0.616\n",
            "Epoch: 4 | Iter: 5999 | Loss: 0.616\n",
            "Epoch: 05 | Time: 2m 45s\n",
            "\tTrain Loss: 0.619\n",
            "Epoch: 5 | Iter: 1999 | Loss: 0.597\n",
            "Epoch: 5 | Iter: 3999 | Loss: 0.597\n",
            "Epoch: 5 | Iter: 5999 | Loss: 0.604\n",
            "Epoch: 06 | Time: 2m 49s\n",
            "\tTrain Loss: 0.599\n",
            "Epoch: 6 | Iter: 1999 | Loss: 0.588\n",
            "Epoch: 6 | Iter: 3999 | Loss: 0.582\n",
            "Epoch: 6 | Iter: 5999 | Loss: 0.585\n",
            "Epoch: 07 | Time: 2m 46s\n",
            "\tTrain Loss: 0.584\n",
            "Epoch: 7 | Iter: 1999 | Loss: 0.575\n",
            "Epoch: 7 | Iter: 3999 | Loss: 0.573\n",
            "Epoch: 7 | Iter: 5999 | Loss: 0.572\n",
            "Epoch: 08 | Time: 2m 47s\n",
            "\tTrain Loss: 0.571\n",
            "Epoch: 8 | Iter: 1999 | Loss: 0.562\n",
            "Epoch: 8 | Iter: 3999 | Loss: 0.560\n",
            "Epoch: 8 | Iter: 5999 | Loss: 0.562\n",
            "Epoch: 09 | Time: 2m 44s\n",
            "\tTrain Loss: 0.560\n",
            "Epoch: 9 | Iter: 1999 | Loss: 0.546\n",
            "Epoch: 9 | Iter: 3999 | Loss: 0.544\n",
            "Epoch: 9 | Iter: 5999 | Loss: 0.548\n",
            "Epoch: 10 | Time: 2m 47s\n",
            "\tTrain Loss: 0.546\n",
            "Epoch: 10 | Iter: 1999 | Loss: 0.540\n",
            "Epoch: 10 | Iter: 3999 | Loss: 0.533\n",
            "Epoch: 10 | Iter: 5999 | Loss: 0.542\n",
            "Epoch: 11 | Time: 2m 45s\n",
            "\tTrain Loss: 0.538\n",
            "Epoch: 11 | Iter: 1999 | Loss: 0.533\n",
            "Epoch: 11 | Iter: 3999 | Loss: 0.526\n",
            "Epoch: 11 | Iter: 5999 | Loss: 0.525\n",
            "Epoch: 12 | Time: 2m 47s\n",
            "\tTrain Loss: 0.528\n",
            "Epoch: 12 | Iter: 1999 | Loss: 0.521\n",
            "Epoch: 12 | Iter: 3999 | Loss: 0.520\n",
            "Epoch: 12 | Iter: 5999 | Loss: 0.522\n",
            "Epoch: 13 | Time: 2m 46s\n",
            "\tTrain Loss: 0.521\n",
            "Epoch: 13 | Iter: 1999 | Loss: 0.521\n",
            "Epoch: 13 | Iter: 3999 | Loss: 0.515\n",
            "Epoch: 13 | Iter: 5999 | Loss: 0.514\n",
            "Epoch: 14 | Time: 2m 49s\n",
            "\tTrain Loss: 0.516\n",
            "Epoch: 14 | Iter: 1999 | Loss: 0.512\n",
            "Epoch: 14 | Iter: 3999 | Loss: 0.508\n",
            "Epoch: 14 | Iter: 5999 | Loss: 0.511\n",
            "Epoch: 15 | Time: 2m 47s\n",
            "\tTrain Loss: 0.510\n",
            "Epoch: 15 | Iter: 1999 | Loss: 0.498\n",
            "Epoch: 15 | Iter: 3999 | Loss: 0.499\n",
            "Epoch: 15 | Iter: 5999 | Loss: 0.508\n",
            "Epoch: 16 | Time: 2m 53s\n",
            "\tTrain Loss: 0.502\n",
            "Epoch: 16 | Iter: 1999 | Loss: 0.499\n",
            "Epoch: 16 | Iter: 3999 | Loss: 0.494\n",
            "Epoch: 16 | Iter: 5999 | Loss: 0.494\n",
            "Epoch: 17 | Time: 2m 50s\n",
            "\tTrain Loss: 0.496\n",
            "Epoch: 17 | Iter: 1999 | Loss: 0.484\n",
            "Epoch: 17 | Iter: 3999 | Loss: 0.492\n",
            "Epoch: 17 | Iter: 5999 | Loss: 0.489\n",
            "Epoch: 18 | Time: 2m 49s\n",
            "\tTrain Loss: 0.488\n",
            "Epoch: 18 | Iter: 1999 | Loss: 0.480\n",
            "Epoch: 18 | Iter: 3999 | Loss: 0.485\n",
            "Epoch: 18 | Iter: 5999 | Loss: 0.488\n",
            "Epoch: 19 | Time: 2m 52s\n",
            "\tTrain Loss: 0.484\n",
            "Epoch: 19 | Iter: 1999 | Loss: 0.471\n",
            "Epoch: 19 | Iter: 3999 | Loss: 0.472\n",
            "Epoch: 19 | Iter: 5999 | Loss: 0.480\n",
            "Epoch: 20 | Time: 2m 53s\n",
            "\tTrain Loss: 0.473\n",
            "Epoch: 20 | Iter: 1999 | Loss: 0.468\n",
            "Epoch: 20 | Iter: 3999 | Loss: 0.472\n",
            "Epoch: 20 | Iter: 5999 | Loss: 0.466\n",
            "Epoch: 21 | Time: 2m 57s\n",
            "\tTrain Loss: 0.469\n",
            "Epoch: 21 | Iter: 1999 | Loss: 0.471\n",
            "Epoch: 21 | Iter: 3999 | Loss: 0.455\n",
            "Epoch: 21 | Iter: 5999 | Loss: 0.466\n",
            "Epoch: 22 | Time: 2m 57s\n",
            "\tTrain Loss: 0.463\n",
            "Epoch: 22 | Iter: 1999 | Loss: 0.455\n",
            "Epoch: 22 | Iter: 3999 | Loss: 0.463\n",
            "Epoch: 22 | Iter: 5999 | Loss: 0.458\n",
            "Epoch: 23 | Time: 2m 56s\n",
            "\tTrain Loss: 0.459\n",
            "Epoch: 23 | Iter: 1999 | Loss: 0.461\n",
            "Epoch: 23 | Iter: 3999 | Loss: 0.449\n",
            "Epoch: 23 | Iter: 5999 | Loss: 0.451\n",
            "Epoch: 24 | Time: 2m 58s\n",
            "\tTrain Loss: 0.453\n",
            "Epoch: 24 | Iter: 1999 | Loss: 0.452\n",
            "Epoch: 24 | Iter: 3999 | Loss: 0.450\n",
            "Epoch: 24 | Iter: 5999 | Loss: 0.457\n",
            "Epoch: 25 | Time: 2m 57s\n",
            "\tTrain Loss: 0.453\n",
            "Epoch: 25 | Iter: 1999 | Loss: 0.445\n",
            "Epoch: 25 | Iter: 3999 | Loss: 0.436\n",
            "Epoch: 25 | Iter: 5999 | Loss: 0.441\n",
            "Epoch: 26 | Time: 3m 3s\n",
            "\tTrain Loss: 0.441\n",
            "Epoch: 26 | Iter: 1999 | Loss: 0.441\n",
            "Epoch: 26 | Iter: 3999 | Loss: 0.436\n",
            "Epoch: 26 | Iter: 5999 | Loss: 0.439\n",
            "Epoch: 27 | Time: 3m 0s\n",
            "\tTrain Loss: 0.439\n",
            "Epoch: 27 | Iter: 1999 | Loss: 0.443\n",
            "Epoch: 27 | Iter: 3999 | Loss: 0.443\n",
            "Epoch: 27 | Iter: 5999 | Loss: 0.431\n",
            "Epoch: 28 | Time: 2m 59s\n",
            "\tTrain Loss: 0.438\n",
            "Epoch: 28 | Iter: 1999 | Loss: 0.431\n",
            "Epoch: 28 | Iter: 3999 | Loss: 0.429\n",
            "Epoch: 28 | Iter: 5999 | Loss: 0.424\n",
            "Epoch: 29 | Time: 3m 3s\n",
            "\tTrain Loss: 0.428\n",
            "Epoch: 29 | Iter: 1999 | Loss: 0.418\n",
            "Epoch: 29 | Iter: 3999 | Loss: 0.417\n",
            "Epoch: 29 | Iter: 5999 | Loss: 0.425\n",
            "Epoch: 30 | Time: 3m 1s\n",
            "\tTrain Loss: 0.421\n",
            "Testing:\n",
            "9999 0.0884088408840884\n"
          ]
        },
        {
          "output_type": "display_data",
          "data": {
            "text/plain": [
              "<IPython.core.display.HTML object>"
            ],
            "text/html": [
              "Waiting for W&B process to finish... <strong style=\"color:green\">(success).</strong>"
            ]
          },
          "metadata": {}
        },
        {
          "output_type": "display_data",
          "data": {
            "text/plain": [
              "VBox(children=(Label(value='0.001 MB of 0.001 MB uploaded (0.000 MB deduped)\\r'), FloatProgress(value=1.0, max…"
            ],
            "application/vnd.jupyter.widget-view+json": {
              "version_major": 2,
              "version_minor": 0,
              "model_id": "3ab58e80d75447bb93e0e88b1e683bb6"
            }
          },
          "metadata": {}
        },
        {
          "output_type": "display_data",
          "data": {
            "text/plain": [
              "<IPython.core.display.HTML object>"
            ],
            "text/html": [
              "<style>\n",
              "    table.wandb td:nth-child(1) { padding: 0 10px; text-align: left ; width: auto;} td:nth-child(2) {text-align: left ; width: 100%}\n",
              "    .wandb-row { display: flex; flex-direction: row; flex-wrap: wrap; justify-content: flex-start; width: 100% }\n",
              "    .wandb-col { display: flex; flex-direction: column; flex-basis: 100%; flex: 1; padding: 10px; }\n",
              "    </style>\n",
              "<div class=\"wandb-row\"><div class=\"wandb-col\"><h3>Run history:</h3><br/><table class=\"wandb\"><tr><td>test/accuracy</td><td>▁</td></tr><tr><td>train/epoch</td><td>▁▁▁▂▂▂▂▃▃▃▃▄▄▄▄▅▅▅▅▆▆▆▆▇▇▇▇███</td></tr><tr><td>train/epoch_loss</td><td>█▆▅▄▄▄▃▃▃▃▃▃▂▂▂▂▂▂▂▂▂▂▂▁▁▁▁▁▁▁</td></tr><tr><td>train/iter</td><td>▃▇▅▄▁█▅▅▂▁▆▅▂▂▆▅▃▂▆▆▃▂▇▆▃▃▇▇▄▃█▇▄▄▁█▅▄▁█</td></tr><tr><td>train/loss</td><td>▅▃▆█▁▂▄▆▂▃▁▄▄▃▂▂▃▂▃▂▄▂▄▃▃▃▃▃▃▁▃▃▂▃▁▁▃▄▂▂</td></tr></table><br/></div><div class=\"wandb-col\"><h3>Run summary:</h3><br/><table class=\"wandb\"><tr><td>test/accuracy</td><td>0.08875</td></tr><tr><td>train/epoch</td><td>29</td></tr><tr><td>train/epoch_loss</td><td>0.42077</td></tr><tr><td>train/iter</td><td>6690</td></tr><tr><td>train/loss</td><td>0.37871</td></tr></table><br/></div></div>"
            ]
          },
          "metadata": {}
        },
        {
          "output_type": "display_data",
          "data": {
            "text/plain": [
              "<IPython.core.display.HTML object>"
            ],
            "text/html": [
              "Synced <strong style=\"color:#cdcd00\">exp_32p_4</strong>: <a href=\"https://wandb.ai/yuqinzhou/ATNLP/runs/1slhxvec\" target=\"_blank\">https://wandb.ai/yuqinzhou/ATNLP/runs/1slhxvec</a><br/>Synced 5 W&B file(s), 0 media file(s), 0 artifact file(s) and 0 other file(s)"
            ]
          },
          "metadata": {}
        },
        {
          "output_type": "display_data",
          "data": {
            "text/plain": [
              "<IPython.core.display.HTML object>"
            ],
            "text/html": [
              "Find logs at: <code>./wandb/run-20221229_162437-1slhxvec/logs</code>"
            ]
          },
          "metadata": {}
        }
      ],
      "source": [
        "total_runs = 5\n",
        "for run in range(total_runs):\n",
        "  wandb.init(\n",
        "      project=\"ATNLP\", \n",
        "      name = f\"exp_32p_{run}\", \n",
        "      config={\"epochs\": 1,\n",
        "              \"name\": f\"./results/transformer/exp_32p_{run}\"\n",
        "      })\n",
        "  \n",
        "  # Copy your config \n",
        "  config = wandb.config\n",
        "\n",
        "  model = Seq2Seq(Encoder(input_lang.n_words, \n",
        "                        args.nhead * 9, \n",
        "                        args.num_encoder_layers, \n",
        "                        args.nhead, \n",
        "                        args.d_feedforward, \n",
        "                        args.dropout, \n",
        "                        device), \n",
        "                    Decoder(output_lang.n_words, \n",
        "                            args.nhead * 9, \n",
        "                            args.num_decoder_layers, \n",
        "                            args.nhead, \n",
        "                            args.d_feedforward, \n",
        "                            args.dropout, \n",
        "                            device), pad_idx, pad_idx, device).to(device)\n",
        "  train(config.name, model, args)\n",
        "  \n",
        "  print(\"Testing:\")\n",
        "  model.load_state_dict(torch.load(config.name))\n",
        "  test_acc = test_accuracy(test_pairs, model)\n",
        "  wandb.log({\"test/accuracy\": test_acc})\n",
        "      \n",
        "  # Mark the run as finished\n",
        "  wandb.finish()"
      ]
    }
  ],
  "metadata": {
    "colab": {
      "provenance": []
    },
    "kernelspec": {
      "display_name": "Python 3",
      "name": "python3"
    },
    "language_info": {
      "name": "python"
    },
    "widgets": {
      "application/vnd.jupyter.widget-state+json": {
        "068185443ccc41a598c24d51236ca640": {
          "model_module": "@jupyter-widgets/base",
          "model_module_version": "1.2.0",
          "model_name": "LayoutModel",
          "state": {
            "_model_module": "@jupyter-widgets/base",
            "_model_module_version": "1.2.0",
            "_model_name": "LayoutModel",
            "_view_count": null,
            "_view_module": "@jupyter-widgets/base",
            "_view_module_version": "1.2.0",
            "_view_name": "LayoutView",
            "align_content": null,
            "align_items": null,
            "align_self": null,
            "border": null,
            "bottom": null,
            "display": null,
            "flex": null,
            "flex_flow": null,
            "grid_area": null,
            "grid_auto_columns": null,
            "grid_auto_flow": null,
            "grid_auto_rows": null,
            "grid_column": null,
            "grid_gap": null,
            "grid_row": null,
            "grid_template_areas": null,
            "grid_template_columns": null,
            "grid_template_rows": null,
            "height": null,
            "justify_content": null,
            "justify_items": null,
            "left": null,
            "margin": null,
            "max_height": null,
            "max_width": null,
            "min_height": null,
            "min_width": null,
            "object_fit": null,
            "object_position": null,
            "order": null,
            "overflow": null,
            "overflow_x": null,
            "overflow_y": null,
            "padding": null,
            "right": null,
            "top": null,
            "visibility": null,
            "width": null
          }
        },
        "193cd21515774ba6a67d5c28add3aa35": {
          "model_module": "@jupyter-widgets/controls",
          "model_module_version": "1.5.0",
          "model_name": "VBoxModel",
          "state": {
            "_dom_classes": [],
            "_model_module": "@jupyter-widgets/controls",
            "_model_module_version": "1.5.0",
            "_model_name": "VBoxModel",
            "_view_count": null,
            "_view_module": "@jupyter-widgets/controls",
            "_view_module_version": "1.5.0",
            "_view_name": "VBoxView",
            "box_style": "",
            "children": [
              "IPY_MODEL_4251e34bb44040d690b4a98b50f1be74",
              "IPY_MODEL_e3f2b8a93948455eb6d159c952e3211e"
            ],
            "layout": "IPY_MODEL_8d9bc46597ff4eaea1a8fc1394320693"
          }
        },
        "1c4aa58b0dc146dfb619876751e1e322": {
          "model_module": "@jupyter-widgets/base",
          "model_module_version": "1.2.0",
          "model_name": "LayoutModel",
          "state": {
            "_model_module": "@jupyter-widgets/base",
            "_model_module_version": "1.2.0",
            "_model_name": "LayoutModel",
            "_view_count": null,
            "_view_module": "@jupyter-widgets/base",
            "_view_module_version": "1.2.0",
            "_view_name": "LayoutView",
            "align_content": null,
            "align_items": null,
            "align_self": null,
            "border": null,
            "bottom": null,
            "display": null,
            "flex": null,
            "flex_flow": null,
            "grid_area": null,
            "grid_auto_columns": null,
            "grid_auto_flow": null,
            "grid_auto_rows": null,
            "grid_column": null,
            "grid_gap": null,
            "grid_row": null,
            "grid_template_areas": null,
            "grid_template_columns": null,
            "grid_template_rows": null,
            "height": null,
            "justify_content": null,
            "justify_items": null,
            "left": null,
            "margin": null,
            "max_height": null,
            "max_width": null,
            "min_height": null,
            "min_width": null,
            "object_fit": null,
            "object_position": null,
            "order": null,
            "overflow": null,
            "overflow_x": null,
            "overflow_y": null,
            "padding": null,
            "right": null,
            "top": null,
            "visibility": null,
            "width": null
          }
        },
        "288f235e7baf40db94d018405deba2a2": {
          "model_module": "@jupyter-widgets/controls",
          "model_module_version": "1.5.0",
          "model_name": "ProgressStyleModel",
          "state": {
            "_model_module": "@jupyter-widgets/controls",
            "_model_module_version": "1.5.0",
            "_model_name": "ProgressStyleModel",
            "_view_count": null,
            "_view_module": "@jupyter-widgets/base",
            "_view_module_version": "1.2.0",
            "_view_name": "StyleView",
            "bar_color": null,
            "description_width": ""
          }
        },
        "35530dce2f9841f79f3e7710c6319fb3": {
          "model_module": "@jupyter-widgets/controls",
          "model_module_version": "1.5.0",
          "model_name": "ProgressStyleModel",
          "state": {
            "_model_module": "@jupyter-widgets/controls",
            "_model_module_version": "1.5.0",
            "_model_name": "ProgressStyleModel",
            "_view_count": null,
            "_view_module": "@jupyter-widgets/base",
            "_view_module_version": "1.2.0",
            "_view_name": "StyleView",
            "bar_color": null,
            "description_width": ""
          }
        },
        "3797334046bd4eb792dc1758a8c1ecad": {
          "model_module": "@jupyter-widgets/controls",
          "model_module_version": "1.5.0",
          "model_name": "ProgressStyleModel",
          "state": {
            "_model_module": "@jupyter-widgets/controls",
            "_model_module_version": "1.5.0",
            "_model_name": "ProgressStyleModel",
            "_view_count": null,
            "_view_module": "@jupyter-widgets/base",
            "_view_module_version": "1.2.0",
            "_view_name": "StyleView",
            "bar_color": null,
            "description_width": ""
          }
        },
        "37c89d3e1d8043d2b7823043aeabb3fd": {
          "model_module": "@jupyter-widgets/controls",
          "model_module_version": "1.5.0",
          "model_name": "VBoxModel",
          "state": {
            "_dom_classes": [],
            "_model_module": "@jupyter-widgets/controls",
            "_model_module_version": "1.5.0",
            "_model_name": "VBoxModel",
            "_view_count": null,
            "_view_module": "@jupyter-widgets/controls",
            "_view_module_version": "1.5.0",
            "_view_name": "VBoxView",
            "box_style": "",
            "children": [
              "IPY_MODEL_f654a1c26eb34cdba2ef026cff1d5eb3",
              "IPY_MODEL_dcb61786a0014ae6adb4d6ae34d88ce0"
            ],
            "layout": "IPY_MODEL_6a99a06ca7174a198737a8f48e258464"
          }
        },
        "4251e34bb44040d690b4a98b50f1be74": {
          "model_module": "@jupyter-widgets/controls",
          "model_module_version": "1.5.0",
          "model_name": "LabelModel",
          "state": {
            "_dom_classes": [],
            "_model_module": "@jupyter-widgets/controls",
            "_model_module_version": "1.5.0",
            "_model_name": "LabelModel",
            "_view_count": null,
            "_view_module": "@jupyter-widgets/controls",
            "_view_module_version": "1.5.0",
            "_view_name": "LabelView",
            "description": "",
            "description_tooltip": null,
            "layout": "IPY_MODEL_4dc60c295326461c9ed983247e46c751",
            "placeholder": "​",
            "style": "IPY_MODEL_db179aac4f9f4d36b9a19e446f6ff6a5",
            "value": "0.013 MB of 0.013 MB uploaded (0.000 MB deduped)\r"
          }
        },
        "47df60aee22e432bb2a1bc8abf5c3f40": {
          "model_module": "@jupyter-widgets/controls",
          "model_module_version": "1.5.0",
          "model_name": "LabelModel",
          "state": {
            "_dom_classes": [],
            "_model_module": "@jupyter-widgets/controls",
            "_model_module_version": "1.5.0",
            "_model_name": "LabelModel",
            "_view_count": null,
            "_view_module": "@jupyter-widgets/controls",
            "_view_module_version": "1.5.0",
            "_view_name": "LabelView",
            "description": "",
            "description_tooltip": null,
            "layout": "IPY_MODEL_068185443ccc41a598c24d51236ca640",
            "placeholder": "​",
            "style": "IPY_MODEL_d3d185e41314414e8891b45e0ad40d5d",
            "value": "0.001 MB of 0.013 MB uploaded (0.000 MB deduped)\r"
          }
        },
        "4a581008ae3e4a40b4bd3037ed9723ab": {
          "model_module": "@jupyter-widgets/controls",
          "model_module_version": "1.5.0",
          "model_name": "ProgressStyleModel",
          "state": {
            "_model_module": "@jupyter-widgets/controls",
            "_model_module_version": "1.5.0",
            "_model_name": "ProgressStyleModel",
            "_view_count": null,
            "_view_module": "@jupyter-widgets/base",
            "_view_module_version": "1.2.0",
            "_view_name": "StyleView",
            "bar_color": null,
            "description_width": ""
          }
        },
        "4dc60c295326461c9ed983247e46c751": {
          "model_module": "@jupyter-widgets/base",
          "model_module_version": "1.2.0",
          "model_name": "LayoutModel",
          "state": {
            "_model_module": "@jupyter-widgets/base",
            "_model_module_version": "1.2.0",
            "_model_name": "LayoutModel",
            "_view_count": null,
            "_view_module": "@jupyter-widgets/base",
            "_view_module_version": "1.2.0",
            "_view_name": "LayoutView",
            "align_content": null,
            "align_items": null,
            "align_self": null,
            "border": null,
            "bottom": null,
            "display": null,
            "flex": null,
            "flex_flow": null,
            "grid_area": null,
            "grid_auto_columns": null,
            "grid_auto_flow": null,
            "grid_auto_rows": null,
            "grid_column": null,
            "grid_gap": null,
            "grid_row": null,
            "grid_template_areas": null,
            "grid_template_columns": null,
            "grid_template_rows": null,
            "height": null,
            "justify_content": null,
            "justify_items": null,
            "left": null,
            "margin": null,
            "max_height": null,
            "max_width": null,
            "min_height": null,
            "min_width": null,
            "object_fit": null,
            "object_position": null,
            "order": null,
            "overflow": null,
            "overflow_x": null,
            "overflow_y": null,
            "padding": null,
            "right": null,
            "top": null,
            "visibility": null,
            "width": null
          }
        },
        "5cca013bb66c4b059220fec3c5583a47": {
          "model_module": "@jupyter-widgets/controls",
          "model_module_version": "1.5.0",
          "model_name": "FloatProgressModel",
          "state": {
            "_dom_classes": [],
            "_model_module": "@jupyter-widgets/controls",
            "_model_module_version": "1.5.0",
            "_model_name": "FloatProgressModel",
            "_view_count": null,
            "_view_module": "@jupyter-widgets/controls",
            "_view_module_version": "1.5.0",
            "_view_name": "ProgressView",
            "bar_style": "",
            "description": "",
            "description_tooltip": null,
            "layout": "IPY_MODEL_b344fc9b85b8426a9303b4df7a2405c1",
            "max": 1,
            "min": 0,
            "orientation": "horizontal",
            "style": "IPY_MODEL_35530dce2f9841f79f3e7710c6319fb3",
            "value": 0.043928997613365155
          }
        },
        "6a99a06ca7174a198737a8f48e258464": {
          "model_module": "@jupyter-widgets/base",
          "model_module_version": "1.2.0",
          "model_name": "LayoutModel",
          "state": {
            "_model_module": "@jupyter-widgets/base",
            "_model_module_version": "1.2.0",
            "_model_name": "LayoutModel",
            "_view_count": null,
            "_view_module": "@jupyter-widgets/base",
            "_view_module_version": "1.2.0",
            "_view_name": "LayoutView",
            "align_content": null,
            "align_items": null,
            "align_self": null,
            "border": null,
            "bottom": null,
            "display": null,
            "flex": null,
            "flex_flow": null,
            "grid_area": null,
            "grid_auto_columns": null,
            "grid_auto_flow": null,
            "grid_auto_rows": null,
            "grid_column": null,
            "grid_gap": null,
            "grid_row": null,
            "grid_template_areas": null,
            "grid_template_columns": null,
            "grid_template_rows": null,
            "height": null,
            "justify_content": null,
            "justify_items": null,
            "left": null,
            "margin": null,
            "max_height": null,
            "max_width": null,
            "min_height": null,
            "min_width": null,
            "object_fit": null,
            "object_position": null,
            "order": null,
            "overflow": null,
            "overflow_x": null,
            "overflow_y": null,
            "padding": null,
            "right": null,
            "top": null,
            "visibility": null,
            "width": null
          }
        },
        "6aacb93296ac4ab98cf2a63fe2c58f6c": {
          "model_module": "@jupyter-widgets/controls",
          "model_module_version": "1.5.0",
          "model_name": "VBoxModel",
          "state": {
            "_dom_classes": [],
            "_model_module": "@jupyter-widgets/controls",
            "_model_module_version": "1.5.0",
            "_model_name": "VBoxModel",
            "_view_count": null,
            "_view_module": "@jupyter-widgets/controls",
            "_view_module_version": "1.5.0",
            "_view_name": "VBoxView",
            "box_style": "",
            "children": [
              "IPY_MODEL_739a7d7dc7674bc1a134d7d75aeceabe",
              "IPY_MODEL_5cca013bb66c4b059220fec3c5583a47"
            ],
            "layout": "IPY_MODEL_cd9cf5b3e54b4842801ab05f1fa98d81"
          }
        },
        "6b1021c050c64171ac32337bc3e12e39": {
          "model_module": "@jupyter-widgets/controls",
          "model_module_version": "1.5.0",
          "model_name": "DescriptionStyleModel",
          "state": {
            "_model_module": "@jupyter-widgets/controls",
            "_model_module_version": "1.5.0",
            "_model_name": "DescriptionStyleModel",
            "_view_count": null,
            "_view_module": "@jupyter-widgets/base",
            "_view_module_version": "1.2.0",
            "_view_name": "StyleView",
            "description_width": ""
          }
        },
        "739a7d7dc7674bc1a134d7d75aeceabe": {
          "model_module": "@jupyter-widgets/controls",
          "model_module_version": "1.5.0",
          "model_name": "LabelModel",
          "state": {
            "_dom_classes": [],
            "_model_module": "@jupyter-widgets/controls",
            "_model_module_version": "1.5.0",
            "_model_name": "LabelModel",
            "_view_count": null,
            "_view_module": "@jupyter-widgets/controls",
            "_view_module_version": "1.5.0",
            "_view_name": "LabelView",
            "description": "",
            "description_tooltip": null,
            "layout": "IPY_MODEL_9357eb20f35747b091f1eaee29bc4e71",
            "placeholder": "​",
            "style": "IPY_MODEL_7f9626158fb844bc855d491b757777a6",
            "value": "0.001 MB of 0.013 MB uploaded (0.000 MB deduped)\r"
          }
        },
        "7f9626158fb844bc855d491b757777a6": {
          "model_module": "@jupyter-widgets/controls",
          "model_module_version": "1.5.0",
          "model_name": "DescriptionStyleModel",
          "state": {
            "_model_module": "@jupyter-widgets/controls",
            "_model_module_version": "1.5.0",
            "_model_name": "DescriptionStyleModel",
            "_view_count": null,
            "_view_module": "@jupyter-widgets/base",
            "_view_module_version": "1.2.0",
            "_view_name": "StyleView",
            "description_width": ""
          }
        },
        "86bbb30692144891987510bc4d015865": {
          "model_module": "@jupyter-widgets/base",
          "model_module_version": "1.2.0",
          "model_name": "LayoutModel",
          "state": {
            "_model_module": "@jupyter-widgets/base",
            "_model_module_version": "1.2.0",
            "_model_name": "LayoutModel",
            "_view_count": null,
            "_view_module": "@jupyter-widgets/base",
            "_view_module_version": "1.2.0",
            "_view_name": "LayoutView",
            "align_content": null,
            "align_items": null,
            "align_self": null,
            "border": null,
            "bottom": null,
            "display": null,
            "flex": null,
            "flex_flow": null,
            "grid_area": null,
            "grid_auto_columns": null,
            "grid_auto_flow": null,
            "grid_auto_rows": null,
            "grid_column": null,
            "grid_gap": null,
            "grid_row": null,
            "grid_template_areas": null,
            "grid_template_columns": null,
            "grid_template_rows": null,
            "height": null,
            "justify_content": null,
            "justify_items": null,
            "left": null,
            "margin": null,
            "max_height": null,
            "max_width": null,
            "min_height": null,
            "min_width": null,
            "object_fit": null,
            "object_position": null,
            "order": null,
            "overflow": null,
            "overflow_x": null,
            "overflow_y": null,
            "padding": null,
            "right": null,
            "top": null,
            "visibility": null,
            "width": null
          }
        },
        "8d9bc46597ff4eaea1a8fc1394320693": {
          "model_module": "@jupyter-widgets/base",
          "model_module_version": "1.2.0",
          "model_name": "LayoutModel",
          "state": {
            "_model_module": "@jupyter-widgets/base",
            "_model_module_version": "1.2.0",
            "_model_name": "LayoutModel",
            "_view_count": null,
            "_view_module": "@jupyter-widgets/base",
            "_view_module_version": "1.2.0",
            "_view_name": "LayoutView",
            "align_content": null,
            "align_items": null,
            "align_self": null,
            "border": null,
            "bottom": null,
            "display": null,
            "flex": null,
            "flex_flow": null,
            "grid_area": null,
            "grid_auto_columns": null,
            "grid_auto_flow": null,
            "grid_auto_rows": null,
            "grid_column": null,
            "grid_gap": null,
            "grid_row": null,
            "grid_template_areas": null,
            "grid_template_columns": null,
            "grid_template_rows": null,
            "height": null,
            "justify_content": null,
            "justify_items": null,
            "left": null,
            "margin": null,
            "max_height": null,
            "max_width": null,
            "min_height": null,
            "min_width": null,
            "object_fit": null,
            "object_position": null,
            "order": null,
            "overflow": null,
            "overflow_x": null,
            "overflow_y": null,
            "padding": null,
            "right": null,
            "top": null,
            "visibility": null,
            "width": null
          }
        },
        "9357eb20f35747b091f1eaee29bc4e71": {
          "model_module": "@jupyter-widgets/base",
          "model_module_version": "1.2.0",
          "model_name": "LayoutModel",
          "state": {
            "_model_module": "@jupyter-widgets/base",
            "_model_module_version": "1.2.0",
            "_model_name": "LayoutModel",
            "_view_count": null,
            "_view_module": "@jupyter-widgets/base",
            "_view_module_version": "1.2.0",
            "_view_name": "LayoutView",
            "align_content": null,
            "align_items": null,
            "align_self": null,
            "border": null,
            "bottom": null,
            "display": null,
            "flex": null,
            "flex_flow": null,
            "grid_area": null,
            "grid_auto_columns": null,
            "grid_auto_flow": null,
            "grid_auto_rows": null,
            "grid_column": null,
            "grid_gap": null,
            "grid_row": null,
            "grid_template_areas": null,
            "grid_template_columns": null,
            "grid_template_rows": null,
            "height": null,
            "justify_content": null,
            "justify_items": null,
            "left": null,
            "margin": null,
            "max_height": null,
            "max_width": null,
            "min_height": null,
            "min_width": null,
            "object_fit": null,
            "object_position": null,
            "order": null,
            "overflow": null,
            "overflow_x": null,
            "overflow_y": null,
            "padding": null,
            "right": null,
            "top": null,
            "visibility": null,
            "width": null
          }
        },
        "b344fc9b85b8426a9303b4df7a2405c1": {
          "model_module": "@jupyter-widgets/base",
          "model_module_version": "1.2.0",
          "model_name": "LayoutModel",
          "state": {
            "_model_module": "@jupyter-widgets/base",
            "_model_module_version": "1.2.0",
            "_model_name": "LayoutModel",
            "_view_count": null,
            "_view_module": "@jupyter-widgets/base",
            "_view_module_version": "1.2.0",
            "_view_name": "LayoutView",
            "align_content": null,
            "align_items": null,
            "align_self": null,
            "border": null,
            "bottom": null,
            "display": null,
            "flex": null,
            "flex_flow": null,
            "grid_area": null,
            "grid_auto_columns": null,
            "grid_auto_flow": null,
            "grid_auto_rows": null,
            "grid_column": null,
            "grid_gap": null,
            "grid_row": null,
            "grid_template_areas": null,
            "grid_template_columns": null,
            "grid_template_rows": null,
            "height": null,
            "justify_content": null,
            "justify_items": null,
            "left": null,
            "margin": null,
            "max_height": null,
            "max_width": null,
            "min_height": null,
            "min_width": null,
            "object_fit": null,
            "object_position": null,
            "order": null,
            "overflow": null,
            "overflow_x": null,
            "overflow_y": null,
            "padding": null,
            "right": null,
            "top": null,
            "visibility": null,
            "width": null
          }
        },
        "cd9cf5b3e54b4842801ab05f1fa98d81": {
          "model_module": "@jupyter-widgets/base",
          "model_module_version": "1.2.0",
          "model_name": "LayoutModel",
          "state": {
            "_model_module": "@jupyter-widgets/base",
            "_model_module_version": "1.2.0",
            "_model_name": "LayoutModel",
            "_view_count": null,
            "_view_module": "@jupyter-widgets/base",
            "_view_module_version": "1.2.0",
            "_view_name": "LayoutView",
            "align_content": null,
            "align_items": null,
            "align_self": null,
            "border": null,
            "bottom": null,
            "display": null,
            "flex": null,
            "flex_flow": null,
            "grid_area": null,
            "grid_auto_columns": null,
            "grid_auto_flow": null,
            "grid_auto_rows": null,
            "grid_column": null,
            "grid_gap": null,
            "grid_row": null,
            "grid_template_areas": null,
            "grid_template_columns": null,
            "grid_template_rows": null,
            "height": null,
            "justify_content": null,
            "justify_items": null,
            "left": null,
            "margin": null,
            "max_height": null,
            "max_width": null,
            "min_height": null,
            "min_width": null,
            "object_fit": null,
            "object_position": null,
            "order": null,
            "overflow": null,
            "overflow_x": null,
            "overflow_y": null,
            "padding": null,
            "right": null,
            "top": null,
            "visibility": null,
            "width": null
          }
        },
        "ced624911e2c485ea8980ad6cc78d7ec": {
          "model_module": "@jupyter-widgets/base",
          "model_module_version": "1.2.0",
          "model_name": "LayoutModel",
          "state": {
            "_model_module": "@jupyter-widgets/base",
            "_model_module_version": "1.2.0",
            "_model_name": "LayoutModel",
            "_view_count": null,
            "_view_module": "@jupyter-widgets/base",
            "_view_module_version": "1.2.0",
            "_view_name": "LayoutView",
            "align_content": null,
            "align_items": null,
            "align_self": null,
            "border": null,
            "bottom": null,
            "display": null,
            "flex": null,
            "flex_flow": null,
            "grid_area": null,
            "grid_auto_columns": null,
            "grid_auto_flow": null,
            "grid_auto_rows": null,
            "grid_column": null,
            "grid_gap": null,
            "grid_row": null,
            "grid_template_areas": null,
            "grid_template_columns": null,
            "grid_template_rows": null,
            "height": null,
            "justify_content": null,
            "justify_items": null,
            "left": null,
            "margin": null,
            "max_height": null,
            "max_width": null,
            "min_height": null,
            "min_width": null,
            "object_fit": null,
            "object_position": null,
            "order": null,
            "overflow": null,
            "overflow_x": null,
            "overflow_y": null,
            "padding": null,
            "right": null,
            "top": null,
            "visibility": null,
            "width": null
          }
        },
        "d3d185e41314414e8891b45e0ad40d5d": {
          "model_module": "@jupyter-widgets/controls",
          "model_module_version": "1.5.0",
          "model_name": "DescriptionStyleModel",
          "state": {
            "_model_module": "@jupyter-widgets/controls",
            "_model_module_version": "1.5.0",
            "_model_name": "DescriptionStyleModel",
            "_view_count": null,
            "_view_module": "@jupyter-widgets/base",
            "_view_module_version": "1.2.0",
            "_view_name": "StyleView",
            "description_width": ""
          }
        },
        "db179aac4f9f4d36b9a19e446f6ff6a5": {
          "model_module": "@jupyter-widgets/controls",
          "model_module_version": "1.5.0",
          "model_name": "DescriptionStyleModel",
          "state": {
            "_model_module": "@jupyter-widgets/controls",
            "_model_module_version": "1.5.0",
            "_model_name": "DescriptionStyleModel",
            "_view_count": null,
            "_view_module": "@jupyter-widgets/base",
            "_view_module_version": "1.2.0",
            "_view_name": "StyleView",
            "description_width": ""
          }
        },
        "dcb61786a0014ae6adb4d6ae34d88ce0": {
          "model_module": "@jupyter-widgets/controls",
          "model_module_version": "1.5.0",
          "model_name": "FloatProgressModel",
          "state": {
            "_dom_classes": [],
            "_model_module": "@jupyter-widgets/controls",
            "_model_module_version": "1.5.0",
            "_model_name": "FloatProgressModel",
            "_view_count": null,
            "_view_module": "@jupyter-widgets/controls",
            "_view_module_version": "1.5.0",
            "_view_name": "ProgressView",
            "bar_style": "",
            "description": "",
            "description_tooltip": null,
            "layout": "IPY_MODEL_ced624911e2c485ea8980ad6cc78d7ec",
            "max": 1,
            "min": 0,
            "orientation": "horizontal",
            "style": "IPY_MODEL_3797334046bd4eb792dc1758a8c1ecad",
            "value": 0.04354958985831469
          }
        },
        "e294945784c44c0e8638afb54ea816b5": {
          "model_module": "@jupyter-widgets/controls",
          "model_module_version": "1.5.0",
          "model_name": "FloatProgressModel",
          "state": {
            "_dom_classes": [],
            "_model_module": "@jupyter-widgets/controls",
            "_model_module_version": "1.5.0",
            "_model_name": "FloatProgressModel",
            "_view_count": null,
            "_view_module": "@jupyter-widgets/controls",
            "_view_module_version": "1.5.0",
            "_view_name": "ProgressView",
            "bar_style": "",
            "description": "",
            "description_tooltip": null,
            "layout": "IPY_MODEL_1c4aa58b0dc146dfb619876751e1e322",
            "max": 1,
            "min": 0,
            "orientation": "horizontal",
            "style": "IPY_MODEL_288f235e7baf40db94d018405deba2a2",
            "value": 0.04391917082991574
          }
        },
        "e3f2b8a93948455eb6d159c952e3211e": {
          "model_module": "@jupyter-widgets/controls",
          "model_module_version": "1.5.0",
          "model_name": "FloatProgressModel",
          "state": {
            "_dom_classes": [],
            "_model_module": "@jupyter-widgets/controls",
            "_model_module_version": "1.5.0",
            "_model_name": "FloatProgressModel",
            "_view_count": null,
            "_view_module": "@jupyter-widgets/controls",
            "_view_module_version": "1.5.0",
            "_view_name": "ProgressView",
            "bar_style": "",
            "description": "",
            "description_tooltip": null,
            "layout": "IPY_MODEL_eb8393196a654e039abcb823ea69755e",
            "max": 1,
            "min": 0,
            "orientation": "horizontal",
            "style": "IPY_MODEL_4a581008ae3e4a40b4bd3037ed9723ab",
            "value": 1
          }
        },
        "e7fec74e942c4b23ad57d01fc9e45d4e": {
          "model_module": "@jupyter-widgets/base",
          "model_module_version": "1.2.0",
          "model_name": "LayoutModel",
          "state": {
            "_model_module": "@jupyter-widgets/base",
            "_model_module_version": "1.2.0",
            "_model_name": "LayoutModel",
            "_view_count": null,
            "_view_module": "@jupyter-widgets/base",
            "_view_module_version": "1.2.0",
            "_view_name": "LayoutView",
            "align_content": null,
            "align_items": null,
            "align_self": null,
            "border": null,
            "bottom": null,
            "display": null,
            "flex": null,
            "flex_flow": null,
            "grid_area": null,
            "grid_auto_columns": null,
            "grid_auto_flow": null,
            "grid_auto_rows": null,
            "grid_column": null,
            "grid_gap": null,
            "grid_row": null,
            "grid_template_areas": null,
            "grid_template_columns": null,
            "grid_template_rows": null,
            "height": null,
            "justify_content": null,
            "justify_items": null,
            "left": null,
            "margin": null,
            "max_height": null,
            "max_width": null,
            "min_height": null,
            "min_width": null,
            "object_fit": null,
            "object_position": null,
            "order": null,
            "overflow": null,
            "overflow_x": null,
            "overflow_y": null,
            "padding": null,
            "right": null,
            "top": null,
            "visibility": null,
            "width": null
          }
        },
        "eb8393196a654e039abcb823ea69755e": {
          "model_module": "@jupyter-widgets/base",
          "model_module_version": "1.2.0",
          "model_name": "LayoutModel",
          "state": {
            "_model_module": "@jupyter-widgets/base",
            "_model_module_version": "1.2.0",
            "_model_name": "LayoutModel",
            "_view_count": null,
            "_view_module": "@jupyter-widgets/base",
            "_view_module_version": "1.2.0",
            "_view_name": "LayoutView",
            "align_content": null,
            "align_items": null,
            "align_self": null,
            "border": null,
            "bottom": null,
            "display": null,
            "flex": null,
            "flex_flow": null,
            "grid_area": null,
            "grid_auto_columns": null,
            "grid_auto_flow": null,
            "grid_auto_rows": null,
            "grid_column": null,
            "grid_gap": null,
            "grid_row": null,
            "grid_template_areas": null,
            "grid_template_columns": null,
            "grid_template_rows": null,
            "height": null,
            "justify_content": null,
            "justify_items": null,
            "left": null,
            "margin": null,
            "max_height": null,
            "max_width": null,
            "min_height": null,
            "min_width": null,
            "object_fit": null,
            "object_position": null,
            "order": null,
            "overflow": null,
            "overflow_x": null,
            "overflow_y": null,
            "padding": null,
            "right": null,
            "top": null,
            "visibility": null,
            "width": null
          }
        },
        "f654a1c26eb34cdba2ef026cff1d5eb3": {
          "model_module": "@jupyter-widgets/controls",
          "model_module_version": "1.5.0",
          "model_name": "LabelModel",
          "state": {
            "_dom_classes": [],
            "_model_module": "@jupyter-widgets/controls",
            "_model_module_version": "1.5.0",
            "_model_name": "LabelModel",
            "_view_count": null,
            "_view_module": "@jupyter-widgets/controls",
            "_view_module_version": "1.5.0",
            "_view_name": "LabelView",
            "description": "",
            "description_tooltip": null,
            "layout": "IPY_MODEL_86bbb30692144891987510bc4d015865",
            "placeholder": "​",
            "style": "IPY_MODEL_6b1021c050c64171ac32337bc3e12e39",
            "value": "0.001 MB of 0.013 MB uploaded (0.000 MB deduped)\r"
          }
        },
        "ffe8923b0eec4a13b569943762f472d5": {
          "model_module": "@jupyter-widgets/controls",
          "model_module_version": "1.5.0",
          "model_name": "VBoxModel",
          "state": {
            "_dom_classes": [],
            "_model_module": "@jupyter-widgets/controls",
            "_model_module_version": "1.5.0",
            "_model_name": "VBoxModel",
            "_view_count": null,
            "_view_module": "@jupyter-widgets/controls",
            "_view_module_version": "1.5.0",
            "_view_name": "VBoxView",
            "box_style": "",
            "children": [
              "IPY_MODEL_47df60aee22e432bb2a1bc8abf5c3f40",
              "IPY_MODEL_e294945784c44c0e8638afb54ea816b5"
            ],
            "layout": "IPY_MODEL_e7fec74e942c4b23ad57d01fc9e45d4e"
          }
        }
      }
    }
  },
  "nbformat": 4,
  "nbformat_minor": 0
}